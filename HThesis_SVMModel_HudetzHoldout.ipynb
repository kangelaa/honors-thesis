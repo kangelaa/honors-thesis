{
  "cells": [
    {
      "cell_type": "markdown",
      "metadata": {
        "id": "view-in-github",
        "colab_type": "text"
      },
      "source": [
        "<a href=\"https://colab.research.google.com/github/kangelaa/honors-thesis/blob/main/HThesis_SVMModel_HudetzHoldout.ipynb\" target=\"_parent\"><img src=\"https://colab.research.google.com/assets/colab-badge.svg\" alt=\"Open In Colab\"/></a>"
      ]
    },
    {
      "cell_type": "markdown",
      "id": "permanent-calcium",
      "metadata": {
        "id": "permanent-calcium"
      },
      "source": [
        "# Honors Thesis: Classifying Consciousness\n",
        "by Angela Kan\n"
      ]
    },
    {
      "cell_type": "code",
      "execution_count": null,
      "id": "great-shareware",
      "metadata": {
        "id": "great-shareware"
      },
      "outputs": [],
      "source": [
        "#required imports\n",
        "import tensorflow as tf\n",
        "from tensorflow.keras import datasets, layers, models, backend\n",
        "import matplotlib.pyplot as plt\n",
        "import numpy as np\n",
        "import scipy.io as spio\n",
        "from sklearn.model_selection import train_test_split\n",
        "from sklearn.metrics import accuracy_score,confusion_matrix,classification_report,ConfusionMatrixDisplay\n",
        "from sklearn.model_selection import GridSearchCV\n",
        "from sklearn.ensemble import RandomForestClassifier\n",
        "from sklearn.naive_bayes import GaussianNB\n",
        "from sklearn.neighbors import KNeighborsClassifier\n",
        "from sklearn.tree import DecisionTreeClassifier\n",
        "from sklearn import svm \n",
        "from statistics import mean, variance\n",
        "from sklearn.model_selection import RandomizedSearchCV\n",
        "from sklearn.utils import resample\n",
        "from scipy import stats\n",
        "import pandas as pd\n",
        "\n",
        "#print full array setting\n",
        "np.set_printoptions(threshold=1000) #revert back to regular w/ threshold=1000"
      ]
    },
    {
      "cell_type": "markdown",
      "id": "alone-vaccine",
      "metadata": {
        "id": "alone-vaccine"
      },
      "source": [
        "## Data Imports, Preprocessing, Splitting\n"
      ]
    },
    {
      "cell_type": "code",
      "source": [
        "#access STSP .mat files from Google Drive\n",
        "from google.colab import drive\n",
        "drive.mount('/content/gdrive')"
      ],
      "metadata": {
        "colab": {
          "base_uri": "https://localhost:8080/"
        },
        "id": "IpuRqGo7nOXi",
        "outputId": "d8584e6a-9d0c-42a3-8f6e-88b28cd3b843"
      },
      "id": "IpuRqGo7nOXi",
      "execution_count": null,
      "outputs": [
        {
          "output_type": "stream",
          "name": "stdout",
          "text": [
            "Drive already mounted at /content/gdrive; to attempt to forcibly remount, call drive.mount(\"/content/gdrive\", force_remount=True).\n"
          ]
        }
      ]
    },
    {
      "cell_type": "markdown",
      "source": [
        "PREPROCESSING FOR NEW DATA (same lengths):"
      ],
      "metadata": {
        "id": "BJOtQNKlmflo"
      },
      "id": "BJOtQNKlmflo"
    },
    {
      "cell_type": "code",
      "source": [
        "#SAME LENGTH VERSION - PROPOFOL DATA\n",
        "#import files and save in dataframe, adding labels \n",
        "\n",
        "NUM_SUBJECTS=18\n",
        "NUM_SCANS=38 #25 w/o recovery data\n",
        "LARGEST_X_DIM=55\n",
        "LARGEST_Y_DIM=100\n",
        "\n",
        "#array initialized w/ 0s for image data \n",
        "all_data=np.zeros((NUM_SCANS,LARGEST_X_DIM*LARGEST_Y_DIM))\n",
        "#array initialized w/ 2s for label data (0 for wake, 1 for sleep)\n",
        "all_labels=np.ones((NUM_SCANS))*3 #initialize with 3's\n",
        "\n",
        "#iterate through each STSP\n",
        "for i in range(1,1+NUM_SCANS):\n",
        "  if i < 10:\n",
        "    mat=spio.loadmat(f\"/content/gdrive/MyDrive/2022-23/Honors Thesis/propofol_stsps/_fft_stsp_sub_00{i}.mat\")\n",
        "  else:\n",
        "    mat=spio.loadmat(f\"/content/gdrive/MyDrive/2022-23/Honors Thesis/propofol_stsps/_fft_stsp_sub_0{i}.mat\")\n",
        "  stsp = mat[\"stsp\"]\n",
        "  #cropped = stsp[:,:100]  #crop accordingly\n",
        "  flat = stsp.flatten() #remove structure for SVM input\n",
        "  all_data[i-1]=flat\n",
        "\n",
        "  # #create labels dataframe\n",
        "  # if i % 2 == 0: # even=wakefulness state, add label [0]\n",
        "  #   all_labels[i-1]=0\n",
        "  # else: # odd=sleep state, add label [1] \n",
        "  #   all_labels[i-1]=1\n",
        "\n",
        "\n",
        "#reshape to be 4dim from 3dim\n",
        "#all_data=np.reshape(all_data,(NUM_SUBJECTS*2,LARGEST_X_DIM,LARGEST_Y_DIM,1))"
      ],
      "metadata": {
        "id": "JXkO0Et1mie1"
      },
      "id": "JXkO0Et1mie1",
      "execution_count": null,
      "outputs": []
    },
    {
      "cell_type": "code",
      "source": [
        "#SAME LENGTH VERSION - HUDETZ DATA\n",
        "#import files and save in dataframe, adding labels \n",
        "\n",
        "NUM_SCANS=43 \n",
        "LARGEST_X_DIM=55\n",
        "LARGEST_Y_DIM=100\n",
        "\n",
        "#array initialized w/ 0s for image data \n",
        "all_test_data=np.zeros((NUM_SCANS,LARGEST_X_DIM*LARGEST_Y_DIM))\n",
        "#array initialized w/ 2s for label data (0 for wake, 1 for sleep)\n",
        "all_test_labels=np.ones((NUM_SCANS))*3 #initialize with 3's\n",
        "\n",
        "#iterate through each STSP\n",
        "for i in range(1,1+NUM_SCANS):\n",
        "  if i < 10:\n",
        "    mat=spio.loadmat(f\"/content/gdrive/MyDrive/2022-23/Honors Thesis/hudetz_stsps/_fft_stsp_sub_00{i}.mat\")\n",
        "  else:\n",
        "    mat=spio.loadmat(f\"/content/gdrive/MyDrive/2022-23/Honors Thesis/hudetz_stsps/_fft_stsp_sub_0{i}.mat\")\n",
        "  stsp = mat[\"stsp\"]\n",
        "  #cropped = stsp[:,:100]  #crop accordingly\n",
        "  flat = stsp.flatten() #remove structure for SVM input\n",
        "  all_test_data[i-1]=flat"
      ],
      "metadata": {
        "id": "OeKK_XB7_LaB"
      },
      "id": "OeKK_XB7_LaB",
      "execution_count": null,
      "outputs": []
    },
    {
      "cell_type": "code",
      "source": [
        "#set HUDETZ labels based on info\n",
        "info_hud=spio.loadmat(f\"/content/gdrive/MyDrive/2022-23/Honors Thesis/hudetz_stsps/_fft_info.mat\")\n",
        "#recovery_hud = []\n",
        "wake_hud=[]\n",
        "unconscious_hud=[]\n",
        "for i, name in enumerate(info_hud[\"fft4info\"][\"images\"][0][0]):\n",
        "  if 'Wakefulness' in str(name[0]):\n",
        "    all_test_labels[i]=0\n",
        "    wake_hud.append(i)\n",
        "  elif 'DeepSedation' in str(name[0]):\n",
        "    all_test_labels[i]=1\n",
        "    unconscious_hud.append(i)\n",
        "  # elif 'W2' in str(name[0]):\n",
        "  #   all_labels[i]=2 #make 0 or 2 depending on # of classes desired\n",
        "  #   recovery_hud.append(i)"
      ],
      "metadata": {
        "id": "Yyrin8x-Mi4Y"
      },
      "id": "Yyrin8x-Mi4Y",
      "execution_count": null,
      "outputs": []
    },
    {
      "cell_type": "code",
      "source": [
        "#set PROPOFOL labels based on info\n",
        "info_prop=spio.loadmat(f\"/content/gdrive/MyDrive/2022-23/Honors Thesis/propofol_stsps/_fft_info.mat\")\n",
        "recovery_prop = []\n",
        "wake_prop=[]\n",
        "unconscious_prop=[]\n",
        "for i, name in enumerate(info_prop[\"fft4info\"][\"images\"][0][0]):\n",
        "  if 'W1' in str(name[0]):\n",
        "    all_labels[i]=0\n",
        "    wake_prop.append(i)\n",
        "  elif 'S2' in str(name[0]):\n",
        "    all_labels[i]=1\n",
        "    unconscious_prop.append(i)\n",
        "  elif 'W2' in str(name[0]):\n",
        "    all_labels[i]=2 #make 0 or 2 depending on # of classes desired\n",
        "    recovery_prop.append(i)"
      ],
      "metadata": {
        "id": "1hbQzzY-noOQ"
      },
      "id": "1hbQzzY-noOQ",
      "execution_count": null,
      "outputs": []
    },
    {
      "cell_type": "code",
      "source": [
        "#drop prop recovery data if desired (for more balanced dataset)\n",
        "for scan in info_hud[\"fft4info\"][\"images\"][0][0]:\n",
        "  print(scan[0])\n",
        "\n",
        "#print(recovery_prop)\n",
        "\n",
        "all_data=np.delete(all_data,recovery_prop,axis=0)\n",
        "all_labels=np.delete(all_labels,recovery_prop,axis=0)\n"
      ],
      "metadata": {
        "id": "mf3AIO1p11eU",
        "colab": {
          "base_uri": "https://localhost:8080/"
        },
        "outputId": "9fba37fd-ebe4-4fc5-8f09-d972cb685fa6"
      },
      "id": "mf3AIO1p11eU",
      "execution_count": null,
      "outputs": [
        {
          "output_type": "stream",
          "name": "stdout",
          "text": [
            "['/Volumes/T7Shield/Hudetz_STSP/res2std_cropped/C1_P1_Wakefulness_res2std.nii']\n",
            "['/Volumes/T7Shield/Hudetz_STSP/res2std_cropped/C1_P2_DeepSedation_res2std.nii']\n",
            "['/Volumes/T7Shield/Hudetz_STSP/res2std_cropped/C1_P2_Wakefulness_res2std.nii']\n",
            "['/Volumes/T7Shield/Hudetz_STSP/res2std_cropped/C1_P3_DeepSedation_res2std.nii']\n",
            "['/Volumes/T7Shield/Hudetz_STSP/res2std_cropped/C1_P3_Wakefulness_res2std.nii']\n",
            "['/Volumes/T7Shield/Hudetz_STSP/res2std_cropped/C1_P4_Wakefulness_res2std.nii']\n",
            "['/Volumes/T7Shield/Hudetz_STSP/res2std_cropped/C1_P5_Wakefulness_res2std.nii']\n",
            "['/Volumes/T7Shield/Hudetz_STSP/res2std_cropped/C1_P6_DeepSedation_res2std.nii']\n",
            "['/Volumes/T7Shield/Hudetz_STSP/res2std_cropped/C1_P6_Wakefulness_res2std.nii']\n",
            "['/Volumes/T7Shield/Hudetz_STSP/res2std_cropped/C1_P7_DeepSedation_res2std.nii']\n",
            "['/Volumes/T7Shield/Hudetz_STSP/res2std_cropped/C1_P7_Wakefulness_res2std.nii']\n",
            "['/Volumes/T7Shield/Hudetz_STSP/res2std_cropped/C1_P11_DeepSedation_res2std.nii']\n",
            "['/Volumes/T7Shield/Hudetz_STSP/res2std_cropped/C1_P11_Wakefulness_res2std.nii']\n",
            "['/Volumes/T7Shield/Hudetz_STSP/res2std_cropped/C1_P12_Wakefulness_res2std.nii']\n",
            "['/Volumes/T7Shield/Hudetz_STSP/res2std_cropped/C1_P13_DeepSedation_res2std.nii']\n",
            "['/Volumes/T7Shield/Hudetz_STSP/res2std_cropped/C1_P13_Wakefulness_res2std.nii']\n",
            "['/Volumes/T7Shield/Hudetz_STSP/res2std_cropped/C1_P14_Wakefulness_res2std.nii']\n",
            "['/Volumes/T7Shield/Hudetz_STSP/res2std_cropped/C1_P28_Wakefulness_res2std.nii']\n",
            "['/Volumes/T7Shield/Hudetz_STSP/res2std_cropped/C1_P29_DeepSedation_res2std.nii']\n",
            "['/Volumes/T7Shield/Hudetz_STSP/res2std_cropped/C1_P29_Wakefulness_res2std.nii']\n",
            "['/Volumes/T7Shield/Hudetz_STSP/res2std_cropped/C1_P30_Wakefulness_res2std.nii']\n",
            "['/Volumes/T7Shield/Hudetz_STSP/res2std_cropped/C1_P31_DeepSedation_res2std.nii']\n",
            "['/Volumes/T7Shield/Hudetz_STSP/res2std_cropped/C1_P31_Wakefulness_res2std.nii']\n",
            "['/Volumes/T7Shield/Hudetz_STSP/res2std_cropped/C2_P1_Wakefulness_res2std.nii']\n",
            "['/Volumes/T7Shield/Hudetz_STSP/res2std_cropped/C2_P2_Wakefulness_res2std.nii']\n",
            "['/Volumes/T7Shield/Hudetz_STSP/res2std_cropped/C2_P3_DeepSedation_res2std.nii']\n",
            "['/Volumes/T7Shield/Hudetz_STSP/res2std_cropped/C2_P3_Wakefulness_res2std.nii']\n",
            "['/Volumes/T7Shield/Hudetz_STSP/res2std_cropped/C2_P4_Wakefulness_res2std.nii']\n",
            "['/Volumes/T7Shield/Hudetz_STSP/res2std_cropped/C2_P6_DeepSedation_res2std.nii']\n",
            "['/Volumes/T7Shield/Hudetz_STSP/res2std_cropped/C2_P6_Wakefulness_res2std.nii']\n",
            "['/Volumes/T7Shield/Hudetz_STSP/res2std_cropped/C2_P7_DeepSedation_res2std.nii']\n",
            "['/Volumes/T7Shield/Hudetz_STSP/res2std_cropped/C2_P7_Wakefulness_res2std.nii']\n",
            "['/Volumes/T7Shield/Hudetz_STSP/res2std_cropped/C2_P11_Wakefulness_res2std.nii']\n",
            "['/Volumes/T7Shield/Hudetz_STSP/res2std_cropped/C2_P12_DeepSedation_res2std.nii']\n",
            "['/Volumes/T7Shield/Hudetz_STSP/res2std_cropped/C2_P12_Wakefulness_res2std.nii']\n",
            "['/Volumes/T7Shield/Hudetz_STSP/res2std_cropped/C2_P13_DeepSedation_res2std.nii']\n",
            "['/Volumes/T7Shield/Hudetz_STSP/res2std_cropped/C2_P13_Wakefulness_res2std.nii']\n",
            "['/Volumes/T7Shield/Hudetz_STSP/res2std_cropped/C2_P14_DeepSedation_res2std.nii']\n",
            "['/Volumes/T7Shield/Hudetz_STSP/res2std_cropped/C2_P14_Wakefulness_res2std.nii']\n",
            "['/Volumes/T7Shield/Hudetz_STSP/res2std_cropped/C2_P28_Wakefulness_res2std.nii']\n",
            "['/Volumes/T7Shield/Hudetz_STSP/res2std_cropped/C2_P29_DeepSedation_res2std.nii']\n",
            "['/Volumes/T7Shield/Hudetz_STSP/res2std_cropped/C2_P31_DeepSedation_res2std.nii']\n",
            "['/Volumes/T7Shield/Hudetz_STSP/res2std_cropped/C2_P31_Wakefulness_res2std.nii']\n"
          ]
        }
      ]
    },
    {
      "cell_type": "code",
      "source": [
        "#reset index for each class\n",
        "wake_prop=[]\n",
        "unconscious_prop=[]\n",
        "for i, name in enumerate(all_labels):\n",
        "  if name==0:\n",
        "    #all_labels[i]=0\n",
        "    wake_prop.append(i)\n",
        "  elif name==1:\n",
        "    #all_labels[i]=1\n",
        "    unconscious_prop.append(i)\n"
      ],
      "metadata": {
        "id": "C2imWIJTPkZt"
      },
      "id": "C2imWIJTPkZt",
      "execution_count": null,
      "outputs": []
    },
    {
      "cell_type": "markdown",
      "source": [
        "UNDERSAMPLING"
      ],
      "metadata": {
        "id": "pPP6lc9KM8p4"
      },
      "id": "pPP6lc9KM8p4"
    },
    {
      "cell_type": "code",
      "source": [
        "#DROP unusable subjects from data\n",
        "# DROP_sub = [7,8,9,10,13,14,17,18,19,20,21,22,27,28,31,32,33,34]\n",
        "# DROP_bad = #[8,10,18,19,21,22,27,28,31,32,33] #THESE SHOULD BE MOVED BACK ONE INDEX? 0-indexing (CHECK ORDER AGAIN, added in order of info.mat)\n",
        "\n",
        "# all_data=np.delete(all_data,DROP_bad,axis=0)\n",
        "# all_labels=np.delete(all_labels,DROP_bad,axis=0)\n",
        "\n",
        "#BALANCE TRAIN DATA \n",
        "#drop_prop_wake=resample(wake_prop,replace=False,n_samples=3)\n",
        "DROP_bad = [17,19,22]\n",
        "#DROP_bad = #[8,10,18,19,21,22,27,28,31,32,33] #THESE SHOULD BE MOVED BACK ONE INDEX? 0-indexing (CHECK ORDER AGAIN, added in order of info.mat)\n",
        "\n",
        "all_data=np.delete(all_data,DROP_bad,axis=0)\n",
        "all_labels=np.delete(all_labels,DROP_bad,axis=0)\n",
        "drop_prop_wake"
      ],
      "metadata": {
        "id": "ASVX5rSNFpZs",
        "colab": {
          "base_uri": "https://localhost:8080/"
        },
        "outputId": "ff181690-d7ed-4e9a-bd83-91bd936a8c4a"
      },
      "id": "ASVX5rSNFpZs",
      "execution_count": null,
      "outputs": [
        {
          "output_type": "execute_result",
          "data": {
            "text/plain": [
              "[17, 22, 19]"
            ]
          },
          "metadata": {},
          "execution_count": 270
        }
      ]
    },
    {
      "cell_type": "code",
      "source": [
        "#only use C2 for Hudetz test \n",
        "# all_test_data=all_test_data[:23]\n",
        "# all_test_labels=all_test_labels[:23]"
      ],
      "metadata": {
        "id": "DbNPfNPVlRGf"
      },
      "id": "DbNPfNPVlRGf",
      "execution_count": null,
      "outputs": []
    },
    {
      "cell_type": "markdown",
      "metadata": {
        "id": "kOoQzIHPfVEv"
      },
      "source": [
        "OVERSAMPLING (potential risk of overfitting?) \n",
        "\n",
        "NOTE: USING RANDOM SEED"
      ],
      "id": "kOoQzIHPfVEv"
    },
    {
      "cell_type": "code",
      "execution_count": null,
      "metadata": {
        "colab": {
          "base_uri": "https://localhost:8080/"
        },
        "id": "XRg5MqHFfTT1",
        "outputId": "c823ae8f-0479-4d87-9d63-e05e076c7f14"
      },
      "outputs": [
        {
          "output_type": "execute_result",
          "data": {
            "text/plain": [
              "[8, 14, 12]"
            ]
          },
          "metadata": {},
          "execution_count": 33
        }
      ],
      "source": [
        "#sample 3 more datapoints for balanced dataset\n",
        "unconscious_upsample_index = resample(unconscious_prop,replace=True, n_samples=len(wake_prop)-len(unconscious_prop),random_state=1234)\n",
        "unconscious_upsample_index\n"
      ],
      "id": "XRg5MqHFfTT1"
    },
    {
      "cell_type": "code",
      "source": [
        "unconscious_upsample_index = np.concatenate([unconscious_upsample_index,unconscious_prop])\n",
        "unconscious_upsample_index"
      ],
      "metadata": {
        "colab": {
          "base_uri": "https://localhost:8080/"
        },
        "id": "54LI3jAhPBnY",
        "outputId": "e83d8b29-56d0-44b5-fda8-1923177ee2c8"
      },
      "id": "54LI3jAhPBnY",
      "execution_count": null,
      "outputs": [
        {
          "output_type": "execute_result",
          "data": {
            "text/plain": [
              "array([ 8, 14, 12,  0,  2,  4,  8, 10, 12, 14, 16, 18, 20, 23])"
            ]
          },
          "metadata": {},
          "execution_count": 34
        }
      ]
    },
    {
      "cell_type": "code",
      "execution_count": null,
      "metadata": {
        "id": "h6c-ACnogXtj"
      },
      "outputs": [],
      "source": [
        "unconscious_upsample=[all_data[i] for i in unconscious_upsample_index]\n",
        "unconscious_labels=np.ones(len(unconscious_upsample))\n",
        "\n",
        "wake_data=[all_data[i] for i in wake_prop]\n",
        "wake_labels=np.zeros(len(wake_data))\n",
        "\n",
        "#unconscious_upsample,unconscious_labels,wake_data,wake_labels"
      ],
      "id": "h6c-ACnogXtj"
    },
    {
      "cell_type": "code",
      "execution_count": null,
      "metadata": {
        "id": "azH1x8iHg3v0"
      },
      "outputs": [],
      "source": [
        "all_data=np.concatenate([np.array(wake_data),np.array(unconscious_upsample)])\n",
        "all_labels=np.concatenate([wake_labels,unconscious_labels])\n"
      ],
      "id": "azH1x8iHg3v0"
    },
    {
      "cell_type": "code",
      "source": [
        "all_labels"
      ],
      "metadata": {
        "colab": {
          "base_uri": "https://localhost:8080/"
        },
        "id": "n4T_jn2LuhpF",
        "outputId": "05da4f51-c5f1-4575-ab55-eaff0bdd54a8"
      },
      "id": "n4T_jn2LuhpF",
      "execution_count": null,
      "outputs": [
        {
          "output_type": "execute_result",
          "data": {
            "text/plain": [
              "array([1., 0., 1., 0., 1., 0., 1., 0., 1., 0., 1., 0., 1., 0., 1., 0., 1.,\n",
              "       0., 1., 0., 0., 1.])"
            ]
          },
          "metadata": {},
          "execution_count": 68
        }
      ]
    },
    {
      "cell_type": "code",
      "source": [
        "print(all_data.shape,all_labels.shape)\n",
        "all_data,all_labels"
      ],
      "metadata": {
        "colab": {
          "base_uri": "https://localhost:8080/"
        },
        "id": "X802Ch3jPwVb",
        "outputId": "59e75d10-19b7-4228-a30d-530fe8080f3c"
      },
      "id": "X802Ch3jPwVb",
      "execution_count": null,
      "outputs": [
        {
          "output_type": "stream",
          "name": "stdout",
          "text": [
            "(22, 5500) (22,)\n"
          ]
        },
        {
          "output_type": "execute_result",
          "data": {
            "text/plain": [
              "(array([[0.67190759, 0.68193608, 0.6879338 , ..., 0.03783506, 0.0382989 ,\n",
              "         0.03682233],\n",
              "        [0.6063963 , 0.63272848, 0.64782544, ..., 0.04960047, 0.04559763,\n",
              "         0.04383665],\n",
              "        [0.59186323, 0.62133627, 0.6388415 , ..., 0.05401315, 0.05075636,\n",
              "         0.05209382],\n",
              "        ...,\n",
              "        [0.7109249 , 0.71119694, 0.71165976, ..., 0.04313156, 0.04142179,\n",
              "         0.04261608],\n",
              "        [0.71279655, 0.71274347, 0.712335  , ..., 0.06417103, 0.06005193,\n",
              "         0.05047246],\n",
              "        [0.70896536, 0.7096057 , 0.71005425, ..., 0.05638925, 0.05560319,\n",
              "         0.06107454]]),\n",
              " array([1., 0., 1., 0., 1., 0., 0., 1., 0., 1., 0., 1., 0., 1., 1., 0., 1.,\n",
              "        0., 1., 0., 1., 0.]))"
            ]
          },
          "metadata": {},
          "execution_count": 235
        }
      ]
    },
    {
      "cell_type": "code",
      "source": [
        "sum(all_labels),len(all_labels)"
      ],
      "metadata": {
        "colab": {
          "base_uri": "https://localhost:8080/"
        },
        "id": "PDzzVpM-CK-N",
        "outputId": "405ff2f9-ac1c-4e29-e509-57cd0018b156"
      },
      "id": "PDzzVpM-CK-N",
      "execution_count": null,
      "outputs": [
        {
          "output_type": "execute_result",
          "data": {
            "text/plain": [
              "(11.0, 22)"
            ]
          },
          "metadata": {},
          "execution_count": 236
        }
      ]
    },
    {
      "cell_type": "code",
      "source": [
        "print(all_test_data.shape,all_test_labels.shape)\n",
        "all_test_data,all_test_labels"
      ],
      "metadata": {
        "colab": {
          "base_uri": "https://localhost:8080/"
        },
        "id": "jFY2o1PcBHE4",
        "outputId": "64bcea20-35db-46a5-b749-6f9219746781"
      },
      "id": "jFY2o1PcBHE4",
      "execution_count": null,
      "outputs": [
        {
          "output_type": "stream",
          "name": "stdout",
          "text": [
            "(23, 5500) (23,)\n"
          ]
        },
        {
          "output_type": "execute_result",
          "data": {
            "text/plain": [
              "(array([[0.71299459, 0.71311593, 0.71322972, ..., 0.05553748, 0.04185886,\n",
              "         0.03417518],\n",
              "        [0.71356768, 0.71324052, 0.7132617 , ..., 0.0836938 , 0.07409662,\n",
              "         0.07460292],\n",
              "        [0.71292884, 0.71311077, 0.71317533, ..., 0.05714413, 0.06041497,\n",
              "         0.06327028],\n",
              "        ...,\n",
              "        [0.70787248, 0.7092343 , 0.71000222, ..., 0.07383685, 0.08278274,\n",
              "         0.06990032],\n",
              "        [0.71357119, 0.71316457, 0.71323827, ..., 0.09235733, 0.1005706 ,\n",
              "         0.10822229],\n",
              "        [0.70950713, 0.71034156, 0.71101406, ..., 0.06053012, 0.05294227,\n",
              "         0.05240357]]),\n",
              " array([0., 1., 0., 1., 0., 0., 0., 1., 0., 1., 0., 1., 0., 0., 1., 0., 0.,\n",
              "        0., 1., 0., 0., 1., 0.]))"
            ]
          },
          "metadata": {},
          "execution_count": 147
        }
      ]
    },
    {
      "cell_type": "code",
      "source": [
        "sum(all_test_labels),len(all_test_labels)"
      ],
      "metadata": {
        "colab": {
          "base_uri": "https://localhost:8080/"
        },
        "id": "vBMzQOk4B4d5",
        "outputId": "3005d37d-b9db-48aa-9942-af47af6b5d45"
      },
      "id": "vBMzQOk4B4d5",
      "execution_count": null,
      "outputs": [
        {
          "output_type": "execute_result",
          "data": {
            "text/plain": [
              "(8.0, 23)"
            ]
          },
          "metadata": {},
          "execution_count": 148
        }
      ]
    },
    {
      "cell_type": "markdown",
      "source": [
        "Display STSP data"
      ],
      "metadata": {
        "id": "fjVyPJWQAGPd"
      },
      "id": "fjVyPJWQAGPd"
    },
    {
      "cell_type": "code",
      "source": [
        "# mat=spio.loadmat(\"/content/gdrive/MyDrive/2022-23/Honors Thesis/hudetz_stsps/_fft_stsp_sub_001.mat\")\n",
        "# data=mat[\"stsp\"]\n",
        "# plt.imshow(data)"
      ],
      "metadata": {
        "colab": {
          "base_uri": "https://localhost:8080/",
          "height": 300
        },
        "id": "Nu49xEIvQ2fS",
        "outputId": "f53b3284-4176-48f2-dbe3-7147fc859ad4"
      },
      "id": "Nu49xEIvQ2fS",
      "execution_count": null,
      "outputs": [
        {
          "output_type": "execute_result",
          "data": {
            "text/plain": [
              "<matplotlib.image.AxesImage at 0x7fcb99f41120>"
            ]
          },
          "metadata": {},
          "execution_count": 8
        },
        {
          "output_type": "display_data",
          "data": {
            "text/plain": [
              "<Figure size 640x480 with 1 Axes>"
            ],
            "image/png": "[encoded data removed]"
          },
          "metadata": {}
        }
      ]
    },
    {
      "cell_type": "markdown",
      "source": [
        "PREPROCESSING FOR OLD DATA (of different lengths):"
      ],
      "metadata": {
        "id": "JPx6o5Zcltnc"
      },
      "id": "JPx6o5Zcltnc"
    },
    {
      "cell_type": "code",
      "source": [
        "#helper function: pad each image WIDTH so all are same input size \n",
        "\n",
        "def padding(array, xx, yy):\n",
        "    \"\"\"\n",
        "    :param array: numpy array\n",
        "    :param xx: desired height\n",
        "    :param yy: desired width\n",
        "    :return: padded array\n",
        "    \"\"\"\n",
        "    h = array.shape[0]\n",
        "    w = array.shape[1]\n",
        "    a = max((xx - h) // 2,0)\n",
        "    aa = max(0,xx - a - h)\n",
        "    b = max(0,(yy - w) // 2)\n",
        "    bb = max(yy - b - w,0)\n",
        "    return np.pad(array, pad_width=((a, aa), (b, bb)), mode='constant')"
      ],
      "metadata": {
        "id": "BlBW7Hwt2i8c"
      },
      "id": "BlBW7Hwt2i8c",
      "execution_count": null,
      "outputs": []
    },
    {
      "cell_type": "code",
      "source": [
        "#PADDING VERSION:\n",
        "#import files and save in dataframe, adding labels and padding images properly\n",
        "\n",
        "NUM_SUBJECTS=18\n",
        "LARGEST_X_DIM=55\n",
        "LARGEST_Y_DIM=178\n",
        "\n",
        "#array initialized w/ 0s for image data (all x*2 STSPs)\n",
        "all_data=np.zeros((NUM_SUBJECTS*2,LARGEST_X_DIM*LARGEST_Y_DIM))\n",
        "#array initialized w/ 2s for label data (0 for wake, 1 for sleep)\n",
        "all_labels=np.ones((NUM_SUBJECTS*2))*2 #initialize with twos\n",
        "\n",
        "#iterate through each STSP\n",
        "for i in range(1,1+NUM_SUBJECTS*2):\n",
        "  mat=spio.loadmat(f\"/content/gdrive/MyDrive/2022-23/Honors Thesis/_fft_stsp_sub_0{i}.mat\")\n",
        "  stsp = mat[\"stsp\"]\n",
        "  padded = padding(stsp,LARGEST_X_DIM,LARGEST_Y_DIM) #pad accordingly\n",
        "  flat = padded.flatten() #remove structure for SVM input\n",
        "  all_data[i-1]=flat\n",
        "\n",
        "  #create labels dataframe\n",
        "  if i % 2 == 0: # even=wakefulness state, add label [0]\n",
        "    all_labels[i-1]=0\n",
        "  else: # odd=sleep state, add label [1] \n",
        "    all_labels[i-1]=1\n",
        "\n",
        "#reshape to be 4dim from 3dim\n",
        "#all_data=np.reshape(all_data,(NUM_SUBJECTS*2,LARGEST_X_DIM,LARGEST_Y_DIM,1))"
      ],
      "metadata": {
        "id": "M8vo9iTbk9X9"
      },
      "id": "M8vo9iTbk9X9",
      "execution_count": null,
      "outputs": []
    },
    {
      "cell_type": "code",
      "source": [
        "#CROPPING VERSION\n",
        "#import files and save in dataframe, adding labels and cropping images properly\n",
        "\n",
        "NUM_SUBJECTS=18\n",
        "LARGEST_X_DIM=55\n",
        "LARGEST_Y_DIM=100\n",
        "\n",
        "#array initialized w/ 0s for image data (all x*2 STSPs)\n",
        "all_data=np.zeros((NUM_SUBJECTS*2,LARGEST_X_DIM*LARGEST_Y_DIM))\n",
        "#array initialized w/ 2s for label data (0 for wake, 1 for sleep)\n",
        "all_labels=np.ones((NUM_SUBJECTS*2))*2 #initialize with twos\n",
        "\n",
        "#iterate through each STSP\n",
        "for i in range(1,1+NUM_SUBJECTS*2):\n",
        "  mat=spio.loadmat(f\"/content/gdrive/MyDrive/2022-23/Honors Thesis/_fft_stsp_sub_0{i}.mat\")\n",
        "  stsp = mat[\"stsp\"]\n",
        "  cropped = stsp[:,:100]  #crop accordingly\n",
        "  flat = cropped.flatten() #remove structure for SVM input\n",
        "  all_data[i-1]=flat\n",
        "\n",
        "  #create labels dataframe\n",
        "  if i % 2 == 0: # even=wakefulness state, add label [0]\n",
        "    all_labels[i-1]=0\n",
        "  else: # odd=sleep state, add label [1] \n",
        "    all_labels[i-1]=1\n",
        "\n",
        "#reshape to be 4dim from 3dim\n",
        "#all_data=np.reshape(all_data,(NUM_SUBJECTS*2,LARGEST_X_DIM,LARGEST_Y_DIM,1))"
      ],
      "metadata": {
        "id": "Wdfcj_Z6nE5r"
      },
      "execution_count": null,
      "outputs": [],
      "id": "Wdfcj_Z6nE5r"
    },
    {
      "cell_type": "code",
      "source": [
        "#DROP unusable subjects from data\n",
        "DROP_sub = [7,8,9,10,13,14,17,18,19,20,21,22,27,28,31,32,33,34]\n",
        "DROP_bad = #[8,10,18,19,21,22,27,28,31,32,33] #THESE SHOULD BE MOVED BACK ONE INDEX? 0-indexing (CHECK ORDER AGAIN, added in order of info.mat)\n",
        "\n",
        "all_data=np.delete(all_data,DROP_bad,axis=0)\n",
        "all_labels=np.delete(all_labels,DROP_bad,axis=0)"
      ],
      "metadata": {
        "id": "uun_0S494PLO"
      },
      "id": "uun_0S494PLO",
      "execution_count": null,
      "outputs": []
    },
    {
      "cell_type": "code",
      "source": [
        "print(all_data.shape,all_labels.shape)\n",
        "all_data,all_labels"
      ],
      "metadata": {
        "colab": {
          "base_uri": "https://localhost:8080/"
        },
        "id": "KYplQ2rj_OO4",
        "outputId": "525170cf-20d9-4ba3-ff57-9bd2475749f2"
      },
      "id": "KYplQ2rj_OO4",
      "execution_count": null,
      "outputs": [
        {
          "output_type": "stream",
          "name": "stdout",
          "text": [
            "(22, 5500) (22,)\n"
          ]
        },
        {
          "output_type": "execute_result",
          "data": {
            "text/plain": [
              "(array([[0.67190759, 0.68193608, 0.6879338 , ..., 0.03783506, 0.0382989 ,\n",
              "         0.03682233],\n",
              "        [0.59186323, 0.62133627, 0.6388415 , ..., 0.05401315, 0.05075636,\n",
              "         0.05209382],\n",
              "        [0.55150099, 0.58911537, 0.61344709, ..., 0.04480397, 0.04231908,\n",
              "         0.03939164],\n",
              "        ...,\n",
              "        [0.68571397, 0.69157559, 0.69574584, ..., 0.04433703, 0.04687393,\n",
              "         0.04485019],\n",
              "        [0.71279655, 0.71274347, 0.712335  , ..., 0.06417103, 0.06005193,\n",
              "         0.05047246],\n",
              "        [0.70896536, 0.7096057 , 0.71005425, ..., 0.05638925, 0.05560319,\n",
              "         0.06107454]]),\n",
              " array([1., 1., 1., 0., 0., 1., 0., 1., 0., 1., 0., 1., 0., 1., 0., 1., 0.,\n",
              "        1., 0., 0., 1., 0.]))"
            ]
          },
          "metadata": {},
          "execution_count": 119
        }
      ]
    },
    {
      "cell_type": "code",
      "source": [
        "#split into training/validation and testing, with specified test_size split and ensuring both train/test have same amount of sleep/wake data\n",
        "# TEST_SIZE=.3\n",
        "\n",
        "# #train-test split from all_data\n",
        "# x_train,x_test,y_train,y_test=train_test_split(all_data,all_labels,test_size=TEST_SIZE,stratify=all_labels)\n",
        "# print(x_train.shape,x_test.shape)\n",
        "\n",
        "#train-val split for train data\n",
        "# x_train,x_val,y_train,y_val=train_test_split(x_train,y_train,test_size=TEST_SIZE,#random_state=1234,stratify=y_train)\n",
        "# print(x_train.shape,x_val.shape,y_train,y_val)\n",
        "# print(x_train[2])\n",
        "\n",
        "# #train-test split from all_data\n",
        "# x_train,x_test,y_train,y_test=train_test_split(all_data,all_labels,test_size=TEST_SIZE,stratify=all_labels)\n",
        "# print(x_train.shape,x_test.shape)\n",
        "\n",
        "#train-test split from all_data AND all_test_data\n",
        "x_train,x_test,y_train,y_test=all_data,all_test_data,all_labels,all_test_labels\n",
        "print(x_train.shape,x_test.shape)"
      ],
      "metadata": {
        "id": "wDwOirGJkRl-",
        "colab": {
          "base_uri": "https://localhost:8080/"
        },
        "outputId": "c9c0d89f-96a0-4c2f-ecce-8111cfb617dd"
      },
      "id": "wDwOirGJkRl-",
      "execution_count": null,
      "outputs": [
        {
          "output_type": "stream",
          "name": "stdout",
          "text": [
            "(22, 5500) (43, 5500)\n"
          ]
        }
      ]
    },
    {
      "cell_type": "code",
      "source": [
        "# #normalize data: Data normalization is an important step which ensures that each input parameter (pixel, in this case) has a similar data distribution. This makes convergence faster while training the network.\n",
        "# x_train=np.array((x_train-np.min(x_train))/(np.max(x_train)-np.min(x_train)))\n",
        "# x_test = np.array((x_test-np.min(x_test))/(np.max(x_test)-np.min(x_test)))\n",
        "# x_train=x_train/np.std(x_train)\n",
        "# x_test=x_test/np.std(x_test)\n",
        "# x_train,x_test"
      ],
      "metadata": {
        "colab": {
          "base_uri": "https://localhost:8080/"
        },
        "id": "EMEbyevVPtY0",
        "outputId": "b2ae8942-04d9-4218-9365-11a812b88a02"
      },
      "id": "EMEbyevVPtY0",
      "execution_count": null,
      "outputs": [
        {
          "output_type": "execute_result",
          "data": {
            "text/plain": [
              "(array([[2.78818138, 2.88949551, 2.95016211, ..., 0.23719518, 0.24429098,\n",
              "         0.26486176],\n",
              "        [2.64611978, 2.78102068, 2.8622488 , ..., 0.02937003, 0.02845375,\n",
              "         0.03602738],\n",
              "        [2.61062299, 2.75112602, 2.83647361, ..., 0.28220288, 0.23942408,\n",
              "         0.21454541],\n",
              "        ...,\n",
              "        [2.75526428, 2.86454829, 2.92856624, ..., 0.08396691, 0.08945904,\n",
              "         0.11008781],\n",
              "        [2.75052539, 2.8602325 , 2.92615823, ..., 0.08204981, 0.0841783 ,\n",
              "         0.07439286],\n",
              "        [2.73769993, 2.8496485 , 2.91756301, ..., 0.05596052, 0.05105101,\n",
              "         0.04448498]]),\n",
              " array([[2.80621872, 2.91704584, 2.9847274 , ..., 0.3401377 , 0.34027408,\n",
              "         0.32828311],\n",
              "        [2.88429866, 2.97705374, 3.02318394, ..., 0.28455018, 0.28691657,\n",
              "         0.30988443],\n",
              "        [2.73345033, 2.85255723, 2.92601502, ..., 0.13639164, 0.12850454,\n",
              "         0.11983965],\n",
              "        ...,\n",
              "        [2.67275894, 2.81607799, 2.90209999, ..., 0.40400548, 0.38341882,\n",
              "         0.39895562],\n",
              "        [2.80577681, 2.91821469, 2.98575484, ..., 0.29013274, 0.29764547,\n",
              "         0.28985655],\n",
              "        [2.84242596, 2.94365962, 3.00598301, ..., 0.12012192, 0.11829485,\n",
              "         0.11107889]]))"
            ]
          },
          "metadata": {},
          "execution_count": 4
        }
      ]
    },
    {
      "cell_type": "code",
      "source": [
        "#plt.imshow(mat[\"stsp\"])"
      ],
      "metadata": {
        "id": "pHq-MeN2tgm5"
      },
      "id": "pHq-MeN2tgm5",
      "execution_count": null,
      "outputs": []
    },
    {
      "cell_type": "markdown",
      "id": "international-option",
      "metadata": {
        "id": "international-option"
      },
      "source": [
        "Let's take a look at our dataset. "
      ]
    },
    {
      "cell_type": "code",
      "source": [
        "train_labels=[\"wake\",\"unconscious\"]#,\"recovery\"]"
      ],
      "metadata": {
        "id": "MfD-dM2rJOPz"
      },
      "id": "MfD-dM2rJOPz",
      "execution_count": null,
      "outputs": []
    },
    {
      "cell_type": "code",
      "execution_count": null,
      "id": "handled-military",
      "metadata": {
        "id": "handled-military"
      },
      "outputs": [],
      "source": [
        "plt.figure(figsize=(10,10))\n",
        "\n",
        "for i in range(20): #loop through grid, plot each image\n",
        "  plt.subplot(5,5,i+1)\n",
        "  plt.xticks([])\n",
        "  plt.yticks([])\n",
        "  plt.grid(False)\n",
        "\n",
        "  plt.imshow(x_train[i])\n",
        "  plt.xlabel(train_labels[int(y_train[i])]) #label w/ class names \n",
        "plt.show()\n"
      ]
    },
    {
      "cell_type": "markdown",
      "id": "emerging-motion",
      "metadata": {
        "id": "emerging-motion"
      },
      "source": [
        "## Building a Model\n",
        "\n",
        "MRMR (https://towardsdatascience.com/mrmr-explained-exactly-how-you-wished-someone-explained-to-you-9cf4ed27458b) \n",
        "\n",
        "SVMS advantages (https://scikit-learn.org/stable/modules/svm.html):\n",
        "- effective in high dimensional spaces\n",
        "- effective where # of dimensions > number of samples\n"
      ]
    },
    {
      "cell_type": "code",
      "source": [
        "#!pip install mrmr_selection \n",
        "from mrmr import mrmr_classif\n",
        "\n",
        "selected_features=mrmr_classif(x_train,y_train,K=10)"
      ],
      "metadata": {
        "id": "neGvXK400ty3"
      },
      "id": "neGvXK400ty3",
      "execution_count": null,
      "outputs": []
    },
    {
      "cell_type": "markdown",
      "source": [
        "### Leave One Out Implementation"
      ],
      "metadata": {
        "id": "jGhT95ATOuk1"
      },
      "id": "jGhT95ATOuk1"
    },
    {
      "cell_type": "code",
      "source": [
        "#leave one data point out at a time\n",
        "\n",
        "#SVM\n",
        "svm_accuracy = []\n",
        "svm_params = []\n",
        "\n",
        "for i in range(len(all_data)):\n",
        "  train_x = np.delete(all_data,i,axis=0)\n",
        "  train_y = np.delete(all_labels,i)\n",
        "  test_x = all_data[i]\n",
        "  test_y = all_labels[i]\n",
        "\n",
        "  param_grid={'C':[0.1,1,10,100],'gamma':[0.0001,0.001,0.1,1],'kernel':['rbf','linear','poly']}\n",
        "  svc=svm.SVC()\n",
        "  model=GridSearchCV(svc,param_grid) #can print cv_results_ attribute of gridsearch model if desired!\n",
        "  model.fit(train_x,train_y)\n",
        "  pred = model.predict(test_x.reshape(1,-1))\n",
        "  if pred == test_y:\n",
        "    val=1\n",
        "  else:\n",
        "    val=0\n",
        "  \n",
        "  svm_accuracy.append(val)\n",
        "  svm_params.append(model.best_params_)\n",
        "\n",
        "print(\"SVM: \", mean(svm_accuracy))\n",
        "\n",
        "#DT\n",
        "dt_accuracy = []\n",
        "dt_params = []\n",
        "\n",
        "for i in range(len(all_data)):\n",
        "  train_x = np.delete(all_data,i,axis=0)\n",
        "  train_y = np.delete(all_labels,i)\n",
        "  test_x = all_data[i]\n",
        "  test_y = all_labels[i]\n",
        "\n",
        "  param_grid={'criterion':['gini','entropy'],'max_depth':[1,2,3,4,5,6,7,8,9,10,11,12]}\n",
        "  tree=DecisionTreeClassifier()\n",
        "  model=GridSearchCV(tree,param_grid) #can print cv_results_ attribute of gridsearch model if desired!\n",
        "  model.fit(train_x,train_y)\n",
        "  pred = model.predict(test_x.reshape(1,-1))\n",
        "  if pred == test_y:\n",
        "    val=1\n",
        "  else:\n",
        "    val=0\n",
        "  \n",
        "  dt_accuracy.append(val)\n",
        "  dt_params.append(model.best_params_)\n",
        "\n",
        "print(\"DT: \", mean(dt_accuracy))\n",
        "\n",
        "#KNN\n",
        "knn_accuracy = []\n",
        "knn_params = []\n",
        "\n",
        "for i in range(len(all_data)):\n",
        "  train_x = np.delete(all_data,i,axis=0)\n",
        "  train_y = np.delete(all_labels,i)\n",
        "  test_x = all_data[i]\n",
        "  test_y = all_labels[i]\n",
        "\n",
        "  param_grid={'n_neighbors':[1,2,3,4,5,6,7,8,9],'weights':['uniform','distance'],'metric':['euclidean','manhattan','minkowski']}\n",
        "  knn=KNeighborsClassifier()\n",
        "  model=GridSearchCV(knn,param_grid) #can print cv_results_ attribute of gridsearch model if desired!\n",
        "  model.fit(train_x,train_y)\n",
        "  pred = model.predict(test_x.reshape(1,-1))\n",
        "  if pred == test_y:\n",
        "    val=1\n",
        "  else:\n",
        "    val=0\n",
        "  \n",
        "  knn_accuracy.append(val)\n",
        "  knn_params.append(model.best_params_)\n",
        "\n",
        "\n",
        "print(\"KNN: \", mean(knn_accuracy))\n",
        "\n",
        "#Gaussian - no hyperparams\n",
        "nbc_accuracy = []\n",
        "#nbc_params = []\n",
        "\n",
        "for i in range(len(all_data)):\n",
        "  train_x = np.delete(all_data,i,axis=0)\n",
        "  train_y = np.delete(all_labels,i)\n",
        "  test_x = all_data[i]\n",
        "  test_y = all_labels[i]\n",
        "\n",
        "  #param_grid={'C':[0.1,1,10,100],'gamma':[0.0001,0.001,0.1,1],'kernel':['rbf','linear','poly']}\n",
        "  nbc=GaussianNB()\n",
        "  #model=GridSearchCV(nbc,param_grid) #can print cv_results_ attribute of gridsearch model if desired!\n",
        "  nbc.fit(train_x,train_y)\n",
        "  pred = model.predict(test_x.reshape(1,-1))\n",
        "  if pred == test_y:\n",
        "    val=1\n",
        "  else:\n",
        "    val=0\n",
        "  \n",
        "  nbc_accuracy.append(val)\n",
        "  #nbc_params.append(model.best_params_)\n",
        "\n",
        "print(\"NBC: \", mean(nbc_accuracy))\n",
        "\n",
        "#RF\n",
        "rf_accuracy = []\n",
        "rf_params = []\n",
        "\n",
        "for i in range(len(all_data)):\n",
        "  train_x = np.delete(all_data,i,axis=0)\n",
        "  train_y = np.delete(all_labels,i)\n",
        "  test_x = all_data[i]\n",
        "  test_y = all_labels[i]\n",
        "\n",
        "  n_estimators = [90,100,115,130]\n",
        "  # Number of features to consider at every split\n",
        "  max_features = ['auto', 'log2']\n",
        "  # Maximum number of levels in tree\n",
        "  max_depth = [2, 10, 15, 20]\n",
        "  # Minimum number of samples required to split a node\n",
        "  min_samples_split = [2, 5, 10]\n",
        "  # Minimum number of samples required at each leaf node\n",
        "  min_samples_leaf = [1, 2, 4]\n",
        "  # Method of selecting samples for training each tree\n",
        "  criterion = ['gini','entropy']\n",
        "  # Create the random grid\n",
        "  param_grid = {'n_estimators': n_estimators,\n",
        "                'max_features': max_features,\n",
        "                'max_depth': max_depth,\n",
        "                'min_samples_split': min_samples_split,\n",
        "                'min_samples_leaf': min_samples_leaf,\n",
        "                'criterion': criterion}\n",
        "  \n",
        "  rf=RandomForestClassifier()\n",
        "  model=RandomizedSearchCV(rf,param_grid) #can print cv_results_ attribute of gridsearch model if desired!\n",
        "  model.fit(train_x,train_y)\n",
        "  pred = model.predict(test_x.reshape(1,-1))\n",
        "  if pred == test_y:\n",
        "    val=1\n",
        "  else:\n",
        "    val=0\n",
        "  \n",
        "  rf_accuracy.append(val)\n",
        "  rf_params.append(model.best_params_)\n",
        "\n",
        "print(\"RF: \", mean(rf_accuracy))"
      ],
      "metadata": {
        "id": "AdEWXIvUOtwk"
      },
      "id": "AdEWXIvUOtwk",
      "execution_count": null,
      "outputs": []
    },
    {
      "cell_type": "code",
      "source": [
        "print(\"SVM: \", mean(svm_accuracy))\n",
        "print(\"DT: \", mean(dt_accuracy))\n",
        "print(\"KNN: \", mean(knn_accuracy))\n",
        "print(\"NBC: \", mean(nbc_accuracy))\n",
        "print(\"RF: \", mean(rf_accuracy))"
      ],
      "metadata": {
        "colab": {
          "base_uri": "https://localhost:8080/"
        },
        "id": "CvvasdAj2HDO",
        "outputId": "b362eb2b-6125-4368-c520-d485e68a132c"
      },
      "id": "CvvasdAj2HDO",
      "execution_count": null,
      "outputs": [
        {
          "output_type": "stream",
          "name": "stdout",
          "text": [
            "SVM:  0.7272727272727273\n",
            "DT:  0.6363636363636364\n",
            "KNN:  0.3181818181818182\n",
            "NBC:  0.5909090909090909\n",
            "RF:  0.5909090909090909\n"
          ]
        }
      ]
    },
    {
      "cell_type": "code",
      "source": [
        "print(\"SVM: \", svm_params)\n",
        "print(\"DT: \", dt_params)\n",
        "print(\"KNN: \", knn_params)\n",
        "#print(\"NBC: \", nbc_params)\n",
        "print(\"RF: \", rf_params)"
      ],
      "metadata": {
        "colab": {
          "base_uri": "https://localhost:8080/"
        },
        "id": "LxbfCe4HEpKq",
        "outputId": "c82a08a0-8766-44fb-9d4e-d15fb17ea8fe"
      },
      "id": "LxbfCe4HEpKq",
      "execution_count": null,
      "outputs": [
        {
          "output_type": "stream",
          "name": "stdout",
          "text": [
            "SVM:  [{'C': 0.1, 'gamma': 0.1, 'kernel': 'poly'}, {'C': 10, 'gamma': 0.0001, 'kernel': 'linear'}, {'C': 0.1, 'gamma': 0.1, 'kernel': 'poly'}, {'C': 0.1, 'gamma': 0.1, 'kernel': 'poly'}, {'C': 10, 'gamma': 0.0001, 'kernel': 'linear'}, {'C': 10, 'gamma': 0.0001, 'kernel': 'linear'}, {'C': 0.1, 'gamma': 0.1, 'kernel': 'poly'}, {'C': 0.1, 'gamma': 0.1, 'kernel': 'poly'}, {'C': 0.1, 'gamma': 0.1, 'kernel': 'poly'}, {'C': 0.1, 'gamma': 0.1, 'kernel': 'poly'}, {'C': 0.1, 'gamma': 0.1, 'kernel': 'poly'}, {'C': 0.1, 'gamma': 0.1, 'kernel': 'poly'}, {'C': 0.1, 'gamma': 0.1, 'kernel': 'poly'}, {'C': 0.1, 'gamma': 0.1, 'kernel': 'poly'}, {'C': 0.1, 'gamma': 0.1, 'kernel': 'poly'}, {'C': 0.1, 'gamma': 0.1, 'kernel': 'poly'}, {'C': 0.1, 'gamma': 0.1, 'kernel': 'poly'}, {'C': 10, 'gamma': 0.0001, 'kernel': 'linear'}, {'C': 10, 'gamma': 0.0001, 'kernel': 'linear'}, {'C': 10, 'gamma': 0.0001, 'kernel': 'linear'}, {'C': 10, 'gamma': 0.0001, 'kernel': 'linear'}, {'C': 0.1, 'gamma': 0.1, 'kernel': 'poly'}]\n",
            "DT:  [{'criterion': 'gini', 'max_depth': 1}, {'criterion': 'entropy', 'max_depth': 11}, {'criterion': 'gini', 'max_depth': 3}, {'criterion': 'gini', 'max_depth': 7}, {'criterion': 'entropy', 'max_depth': 7}, {'criterion': 'gini', 'max_depth': 5}, {'criterion': 'gini', 'max_depth': 9}, {'criterion': 'entropy', 'max_depth': 6}, {'criterion': 'gini', 'max_depth': 5}, {'criterion': 'gini', 'max_depth': 9}, {'criterion': 'gini', 'max_depth': 10}, {'criterion': 'gini', 'max_depth': 2}, {'criterion': 'entropy', 'max_depth': 4}, {'criterion': 'entropy', 'max_depth': 9}, {'criterion': 'entropy', 'max_depth': 8}, {'criterion': 'gini', 'max_depth': 4}, {'criterion': 'entropy', 'max_depth': 10}, {'criterion': 'gini', 'max_depth': 7}, {'criterion': 'gini', 'max_depth': 3}, {'criterion': 'gini', 'max_depth': 2}, {'criterion': 'entropy', 'max_depth': 3}, {'criterion': 'gini', 'max_depth': 8}]\n",
            "KNN:  [{'metric': 'manhattan', 'n_neighbors': 1, 'weights': 'uniform'}, {'metric': 'euclidean', 'n_neighbors': 6, 'weights': 'uniform'}, {'metric': 'euclidean', 'n_neighbors': 6, 'weights': 'uniform'}, {'metric': 'manhattan', 'n_neighbors': 1, 'weights': 'uniform'}, {'metric': 'euclidean', 'n_neighbors': 6, 'weights': 'uniform'}, {'metric': 'manhattan', 'n_neighbors': 1, 'weights': 'uniform'}, {'metric': 'manhattan', 'n_neighbors': 1, 'weights': 'uniform'}, {'metric': 'euclidean', 'n_neighbors': 6, 'weights': 'uniform'}, {'metric': 'euclidean', 'n_neighbors': 6, 'weights': 'uniform'}, {'metric': 'manhattan', 'n_neighbors': 1, 'weights': 'uniform'}, {'metric': 'euclidean', 'n_neighbors': 6, 'weights': 'uniform'}, {'metric': 'euclidean', 'n_neighbors': 4, 'weights': 'uniform'}, {'metric': 'manhattan', 'n_neighbors': 1, 'weights': 'uniform'}, {'metric': 'euclidean', 'n_neighbors': 5, 'weights': 'uniform'}, {'metric': 'manhattan', 'n_neighbors': 1, 'weights': 'uniform'}, {'metric': 'manhattan', 'n_neighbors': 1, 'weights': 'uniform'}, {'metric': 'manhattan', 'n_neighbors': 1, 'weights': 'uniform'}, {'metric': 'euclidean', 'n_neighbors': 3, 'weights': 'uniform'}, {'metric': 'euclidean', 'n_neighbors': 3, 'weights': 'uniform'}, {'metric': 'euclidean', 'n_neighbors': 4, 'weights': 'uniform'}, {'metric': 'euclidean', 'n_neighbors': 3, 'weights': 'uniform'}, {'metric': 'euclidean', 'n_neighbors': 4, 'weights': 'uniform'}]\n",
            "RF:  [{'n_estimators': 115, 'min_samples_split': 2, 'min_samples_leaf': 2, 'max_features': 'log2', 'max_depth': 2, 'criterion': 'gini'}, {'n_estimators': 130, 'min_samples_split': 5, 'min_samples_leaf': 4, 'max_features': 'log2', 'max_depth': 10, 'criterion': 'gini'}, {'n_estimators': 130, 'min_samples_split': 5, 'min_samples_leaf': 1, 'max_features': 'log2', 'max_depth': 2, 'criterion': 'gini'}, {'n_estimators': 130, 'min_samples_split': 10, 'min_samples_leaf': 1, 'max_features': 'log2', 'max_depth': 20, 'criterion': 'entropy'}, {'n_estimators': 90, 'min_samples_split': 5, 'min_samples_leaf': 4, 'max_features': 'log2', 'max_depth': 2, 'criterion': 'entropy'}, {'n_estimators': 115, 'min_samples_split': 5, 'min_samples_leaf': 2, 'max_features': 'auto', 'max_depth': 10, 'criterion': 'gini'}, {'n_estimators': 90, 'min_samples_split': 2, 'min_samples_leaf': 4, 'max_features': 'log2', 'max_depth': 10, 'criterion': 'entropy'}, {'n_estimators': 115, 'min_samples_split': 10, 'min_samples_leaf': 2, 'max_features': 'auto', 'max_depth': 20, 'criterion': 'entropy'}, {'n_estimators': 115, 'min_samples_split': 10, 'min_samples_leaf': 2, 'max_features': 'auto', 'max_depth': 10, 'criterion': 'entropy'}, {'n_estimators': 130, 'min_samples_split': 2, 'min_samples_leaf': 2, 'max_features': 'log2', 'max_depth': 15, 'criterion': 'entropy'}, {'n_estimators': 115, 'min_samples_split': 10, 'min_samples_leaf': 2, 'max_features': 'log2', 'max_depth': 20, 'criterion': 'entropy'}, {'n_estimators': 130, 'min_samples_split': 2, 'min_samples_leaf': 2, 'max_features': 'log2', 'max_depth': 20, 'criterion': 'entropy'}, {'n_estimators': 90, 'min_samples_split': 5, 'min_samples_leaf': 1, 'max_features': 'auto', 'max_depth': 2, 'criterion': 'gini'}, {'n_estimators': 90, 'min_samples_split': 5, 'min_samples_leaf': 4, 'max_features': 'log2', 'max_depth': 10, 'criterion': 'gini'}, {'n_estimators': 90, 'min_samples_split': 2, 'min_samples_leaf': 2, 'max_features': 'log2', 'max_depth': 20, 'criterion': 'entropy'}, {'n_estimators': 100, 'min_samples_split': 2, 'min_samples_leaf': 1, 'max_features': 'log2', 'max_depth': 20, 'criterion': 'gini'}, {'n_estimators': 130, 'min_samples_split': 10, 'min_samples_leaf': 2, 'max_features': 'auto', 'max_depth': 2, 'criterion': 'entropy'}, {'n_estimators': 115, 'min_samples_split': 2, 'min_samples_leaf': 2, 'max_features': 'auto', 'max_depth': 2, 'criterion': 'entropy'}, {'n_estimators': 100, 'min_samples_split': 10, 'min_samples_leaf': 4, 'max_features': 'log2', 'max_depth': 15, 'criterion': 'entropy'}, {'n_estimators': 90, 'min_samples_split': 2, 'min_samples_leaf': 1, 'max_features': 'auto', 'max_depth': 10, 'criterion': 'entropy'}, {'n_estimators': 130, 'min_samples_split': 5, 'min_samples_leaf': 2, 'max_features': 'log2', 'max_depth': 15, 'criterion': 'gini'}, {'n_estimators': 130, 'min_samples_split': 10, 'min_samples_leaf': 2, 'max_features': 'log2', 'max_depth': 10, 'criterion': 'entropy'}]\n"
          ]
        }
      ]
    },
    {
      "cell_type": "code",
      "source": [
        "run1 = [{'C': 0.1, 'gamma': 0.1, 'kernel': 'poly'}, {'C': 0.1, 'gamma': 0.1, 'kernel': 'poly'}, {'C': 0.1, 'gamma': 0.1, 'kernel': 'poly'}, {'C': 10, 'gamma': 0.0001, 'kernel': 'linear'}, {'C': 0.1, 'gamma': 0.1, 'kernel': 'poly'}, {'C': 0.1, 'gamma': 0.1, 'kernel': 'poly'}, {'C': 10, 'gamma': 0.0001, 'kernel': 'linear'}, {'C': 0.1, 'gamma': 0.1, 'kernel': 'poly'}, {'C': 0.1, 'gamma': 0.1, 'kernel': 'poly'}, {'C': 0.1, 'gamma': 0.1, 'kernel': 'poly'}, {'C': 10, 'gamma': 0.0001, 'kernel': 'linear'}, {'C': 0.1, 'gamma': 0.1, 'kernel': 'poly'}, {'C': 10, 'gamma': 0.0001, 'kernel': 'linear'}, {'C': 0.1, 'gamma': 0.1, 'kernel': 'poly'}, {'C': 10, 'gamma': 0.0001, 'kernel': 'linear'}, {'C': 100, 'gamma': 0.0001, 'kernel': 'linear'}, {'C': 0.1, 'gamma': 0.1, 'kernel': 'poly'}, {'C': 0.1, 'gamma': 0.1, 'kernel': 'poly'}, {'C': 0.1, 'gamma': 0.1, 'kernel': 'poly'}, {'C': 0.1, 'gamma': 0.1, 'kernel': 'poly'}, {'C': 0.1, 'gamma': 0.1, 'kernel': 'poly'}, {'C': 0.1, 'gamma': 0.1, 'kernel': 'poly'}]\n",
        "run2 = [{'C': 10, 'gamma': 0.0001, 'kernel': 'linear'}, {'C': 100, 'gamma': 0.1, 'kernel': 'rbf'}, {'C': 10, 'gamma': 0.0001, 'kernel': 'linear'}, {'C': 10, 'gamma': 0.0001, 'kernel': 'linear'}, {'C': 10, 'gamma': 0.0001, 'kernel': 'linear'}, {'C': 10, 'gamma': 0.0001, 'kernel': 'linear'}, {'C': 10, 'gamma': 0.1, 'kernel': 'rbf'}, {'C': 0.1, 'gamma': 0.1, 'kernel': 'poly'}, {'C': 10, 'gamma': 0.0001, 'kernel': 'linear'}, {'C': 10, 'gamma': 0.0001, 'kernel': 'linear'}, {'C': 0.1, 'gamma': 0.1, 'kernel': 'poly'}, {'C': 10, 'gamma': 0.0001, 'kernel': 'linear'}, {'C': 10, 'gamma': 0.0001, 'kernel': 'linear'}, {'C': 0.1, 'gamma': 0.1, 'kernel': 'poly'}, {'C': 10, 'gamma': 0.0001, 'kernel': 'linear'}, {'C': 10, 'gamma': 1, 'kernel': 'rbf'}, {'C': 0.1, 'gamma': 0.1, 'kernel': 'poly'}, {'C': 10, 'gamma': 1, 'kernel': 'rbf'}, {'C': 0.1, 'gamma': 0.1, 'kernel': 'poly'}, {'C': 10, 'gamma': 0.0001, 'kernel': 'linear'}, {'C': 10, 'gamma': 1, 'kernel': 'rbf'}, {'C': 1, 'gamma': 0.0001, 'kernel': 'linear'}]\n",
        "run3 = [{'C': 10, 'gamma': 0.0001, 'kernel': 'linear'}, {'C': 100, 'gamma': 0.0001, 'kernel': 'linear'}, {'C': 10, 'gamma': 0.0001, 'kernel': 'linear'}, {'C': 10, 'gamma': 0.0001, 'kernel': 'linear'}, {'C': 10, 'gamma': 0.0001, 'kernel': 'linear'}, {'C': 10, 'gamma': 0.0001, 'kernel': 'linear'}, {'C': 10, 'gamma': 0.0001, 'kernel': 'linear'}, {'C': 10, 'gamma': 0.1, 'kernel': 'rbf'}, {'C': 10, 'gamma': 0.0001, 'kernel': 'linear'}, {'C': 10, 'gamma': 0.0001, 'kernel': 'linear'}, {'C': 100, 'gamma': 0.1, 'kernel': 'rbf'}, {'C': 10, 'gamma': 0.0001, 'kernel': 'linear'}, {'C': 10, 'gamma': 0.0001, 'kernel': 'linear'}, {'C': 0.1, 'gamma': 0.1, 'kernel': 'poly'}, {'C': 100, 'gamma': 0.0001, 'kernel': 'linear'}, {'C': 10, 'gamma': 0.0001, 'kernel': 'linear'}, {'C': 10, 'gamma': 0.0001, 'kernel': 'linear'}, {'C': 0.1, 'gamma': 0.1, 'kernel': 'poly'}, {'C': 10, 'gamma': 0.0001, 'kernel': 'linear'}, {'C': 0.1, 'gamma': 0.1, 'kernel': 'poly'}, {'C': 0.1, 'gamma': 0.1, 'kernel': 'poly'}, {'C': 10, 'gamma': 0.0001, 'kernel': 'linear'}]\n",
        "run4 = [{'C': 10, 'gamma': 0.0001, 'kernel': 'linear'}, {'C': 100, 'gamma': 0.1, 'kernel': 'rbf'}, {'C': 100, 'gamma': 0.1, 'kernel': 'rbf'}, {'C': 1, 'gamma': 1, 'kernel': 'rbf'}, {'C': 10, 'gamma': 1, 'kernel': 'rbf'}, {'C': 10, 'gamma': 0.0001, 'kernel': 'linear'}, {'C': 1, 'gamma': 1, 'kernel': 'rbf'}, {'C': 10, 'gamma': 0.0001, 'kernel': 'linear'}, {'C': 10, 'gamma': 0.0001, 'kernel': 'linear'}, {'C': 10, 'gamma': 0.0001, 'kernel': 'linear'}, {'C': 1, 'gamma': 0.0001, 'kernel': 'linear'}, {'C': 100, 'gamma': 0.1, 'kernel': 'rbf'}, {'C': 10, 'gamma': 0.0001, 'kernel': 'linear'}, {'C': 10, 'gamma': 0.0001, 'kernel': 'linear'}, {'C': 10, 'gamma': 0.1, 'kernel': 'rbf'}, {'C': 10, 'gamma': 0.0001, 'kernel': 'linear'}, {'C': 10, 'gamma': 1, 'kernel': 'rbf'}, {'C': 1, 'gamma': 0.0001, 'kernel': 'linear'}, {'C': 10, 'gamma': 1, 'kernel': 'rbf'}, {'C': 10, 'gamma': 0.1, 'kernel': 'rbf'}, {'C': 100, 'gamma': 0.1, 'kernel': 'rbf'}, {'C': 10, 'gamma': 0.0001, 'kernel': 'linear'}]\n",
        "run5 = [{'C': 0.1, 'gamma': 0.1, 'kernel': 'poly'}, {'C': 10, 'gamma': 0.0001, 'kernel': 'linear'}, {'C': 0.1, 'gamma': 0.1, 'kernel': 'poly'}, {'C': 0.1, 'gamma': 0.1, 'kernel': 'poly'}, {'C': 10, 'gamma': 0.0001, 'kernel': 'linear'}, {'C': 10, 'gamma': 0.0001, 'kernel': 'linear'}, {'C': 0.1, 'gamma': 0.1, 'kernel': 'poly'}, {'C': 0.1, 'gamma': 0.1, 'kernel': 'poly'}, {'C': 0.1, 'gamma': 0.1, 'kernel': 'poly'}, {'C': 0.1, 'gamma': 0.1, 'kernel': 'poly'}, {'C': 0.1, 'gamma': 0.1, 'kernel': 'poly'}, {'C': 0.1, 'gamma': 0.1, 'kernel': 'poly'}, {'C': 0.1, 'gamma': 0.1, 'kernel': 'poly'}, {'C': 0.1, 'gamma': 0.1, 'kernel': 'poly'}, {'C': 0.1, 'gamma': 0.1, 'kernel': 'poly'}, {'C': 0.1, 'gamma': 0.1, 'kernel': 'poly'}, {'C': 0.1, 'gamma': 0.1, 'kernel': 'poly'}, {'C': 10, 'gamma': 0.0001, 'kernel': 'linear'}, {'C': 10, 'gamma': 0.0001, 'kernel': 'linear'}, {'C': 10, 'gamma': 0.0001, 'kernel': 'linear'}, {'C': 10, 'gamma': 0.0001, 'kernel': 'linear'}, {'C': 0.1, 'gamma': 0.1, 'kernel': 'poly'}]"
      ],
      "metadata": {
        "id": "_LZVzplxmXLc"
      },
      "id": "_LZVzplxmXLc",
      "execution_count": null,
      "outputs": []
    },
    {
      "cell_type": "code",
      "source": [
        "svmparams = pd.concat([pd.DataFrame(run1),pd.DataFrame(run2),pd.DataFrame(run3),pd.DataFrame(run4),pd.DataFrame(run5)])"
      ],
      "metadata": {
        "id": "D7gtocHTmpvG"
      },
      "id": "D7gtocHTmpvG",
      "execution_count": null,
      "outputs": []
    },
    {
      "cell_type": "code",
      "source": [
        "pd.DataFrame(run2).mode()"
      ],
      "metadata": {
        "colab": {
          "base_uri": "https://localhost:8080/",
          "height": 80
        },
        "id": "rG8JhLJ-m2-K",
        "outputId": "65dee320-7d62-4c9f-b24e-fa48cdca1427"
      },
      "id": "rG8JhLJ-m2-K",
      "execution_count": null,
      "outputs": [
        {
          "output_type": "execute_result",
          "data": {
            "text/plain": [
              "      C   gamma  kernel\n",
              "0  10.0  0.0001  linear"
            ],
            "text/html": [
              "\n",
              "  <div id=\"df-f192ed4a-9315-405f-badc-bbe140a3c292\">\n",
              "    <div class=\"colab-df-container\">\n",
              "      <div>\n",
              "<style scoped>\n",
              "    .dataframe tbody tr th:only-of-type {\n",
              "        vertical-align: middle;\n",
              "    }\n",
              "\n",
              "    .dataframe tbody tr th {\n",
              "        vertical-align: top;\n",
              "    }\n",
              "\n",
              "    .dataframe thead th {\n",
              "        text-align: right;\n",
              "    }\n",
              "</style>\n",
              "<table border=\"1\" class=\"dataframe\">\n",
              "  <thead>\n",
              "    <tr style=\"text-align: right;\">\n",
              "      <th></th>\n",
              "      <th>C</th>\n",
              "      <th>gamma</th>\n",
              "      <th>kernel</th>\n",
              "    </tr>\n",
              "  </thead>\n",
              "  <tbody>\n",
              "    <tr>\n",
              "      <th>0</th>\n",
              "      <td>10.0</td>\n",
              "      <td>0.0001</td>\n",
              "      <td>linear</td>\n",
              "    </tr>\n",
              "  </tbody>\n",
              "</table>\n",
              "</div>\n",
              "      <button class=\"colab-df-convert\" onclick=\"convertToInteractive('df-f192ed4a-9315-405f-badc-bbe140a3c292')\"\n",
              "              title=\"Convert this dataframe to an interactive table.\"\n",
              "              style=\"display:none;\">\n",
              "        \n",
              "  <svg xmlns=\"http://www.w3.org/2000/svg\" height=\"24px\"viewBox=\"0 0 24 24\"\n",
              "       width=\"24px\">\n",
              "    <path d=\"M0 0h24v24H0V0z\" fill=\"none\"/>\n",
              "    <path d=\"M18.56 5.44l.94 2.06.94-2.06 2.06-.94-2.06-.94-.94-2.06-.94 2.06-2.06.94zm-11 1L8.5 8.5l.94-2.06 2.06-.94-2.06-.94L8.5 2.5l-.94 2.06-2.06.94zm10 10l.94 2.06.94-2.06 2.06-.94-2.06-.94-.94-2.06-.94 2.06-2.06.94z\"/><path d=\"M17.41 7.96l-1.37-1.37c-.4-.4-.92-.59-1.43-.59-.52 0-1.04.2-1.43.59L10.3 9.45l-7.72 7.72c-.78.78-.78 2.05 0 2.83L4 21.41c.39.39.9.59 1.41.59.51 0 1.02-.2 1.41-.59l7.78-7.78 2.81-2.81c.8-.78.8-2.07 0-2.86zM5.41 20L4 18.59l7.72-7.72 1.47 1.35L5.41 20z\"/>\n",
              "  </svg>\n",
              "      </button>\n",
              "      \n",
              "  <style>\n",
              "    .colab-df-container {\n",
              "      display:flex;\n",
              "      flex-wrap:wrap;\n",
              "      gap: 12px;\n",
              "    }\n",
              "\n",
              "    .colab-df-convert {\n",
              "      background-color: #E8F0FE;\n",
              "      border: none;\n",
              "      border-radius: 50%;\n",
              "      cursor: pointer;\n",
              "      display: none;\n",
              "      fill: #1967D2;\n",
              "      height: 32px;\n",
              "      padding: 0 0 0 0;\n",
              "      width: 32px;\n",
              "    }\n",
              "\n",
              "    .colab-df-convert:hover {\n",
              "      background-color: #E2EBFA;\n",
              "      box-shadow: 0px 1px 2px rgba(60, 64, 67, 0.3), 0px 1px 3px 1px rgba(60, 64, 67, 0.15);\n",
              "      fill: #174EA6;\n",
              "    }\n",
              "\n",
              "    [theme=dark] .colab-df-convert {\n",
              "      background-color: #3B4455;\n",
              "      fill: #D2E3FC;\n",
              "    }\n",
              "\n",
              "    [theme=dark] .colab-df-convert:hover {\n",
              "      background-color: #434B5C;\n",
              "      box-shadow: 0px 1px 3px 1px rgba(0, 0, 0, 0.15);\n",
              "      filter: drop-shadow(0px 1px 2px rgba(0, 0, 0, 0.3));\n",
              "      fill: #FFFFFF;\n",
              "    }\n",
              "  </style>\n",
              "\n",
              "      <script>\n",
              "        const buttonEl =\n",
              "          document.querySelector('#df-f192ed4a-9315-405f-badc-bbe140a3c292 button.colab-df-convert');\n",
              "        buttonEl.style.display =\n",
              "          google.colab.kernel.accessAllowed ? 'block' : 'none';\n",
              "\n",
              "        async function convertToInteractive(key) {\n",
              "          const element = document.querySelector('#df-f192ed4a-9315-405f-badc-bbe140a3c292');\n",
              "          const dataTable =\n",
              "            await google.colab.kernel.invokeFunction('convertToInteractive',\n",
              "                                                     [key], {});\n",
              "          if (!dataTable) return;\n",
              "\n",
              "          const docLinkHtml = 'Like what you see? Visit the ' +\n",
              "            '<a target=\"_blank\" href=https://colab.research.google.com/notebooks/data_table.ipynb>data table notebook</a>'\n",
              "            + ' to learn more about interactive tables.';\n",
              "          element.innerHTML = '';\n",
              "          dataTable['output_type'] = 'display_data';\n",
              "          await google.colab.output.renderOutput(dataTable, element);\n",
              "          const docLink = document.createElement('div');\n",
              "          docLink.innerHTML = docLinkHtml;\n",
              "          element.appendChild(docLink);\n",
              "        }\n",
              "      </script>\n",
              "    </div>\n",
              "  </div>\n",
              "  "
            ]
          },
          "metadata": {},
          "execution_count": 263
        }
      ]
    },
    {
      "cell_type": "code",
      "execution_count": null,
      "id": "spoken-bahamas",
      "metadata": {
        "id": "spoken-bahamas",
        "colab": {
          "base_uri": "https://localhost:8080/"
        },
        "outputId": "1153713e-e432-4cf0-cf7c-62ea964bd0e6"
      },
      "outputs": [
        {
          "output_type": "execute_result",
          "data": {
            "text/plain": [
              "{'C': 0.1, 'gamma': 0.1, 'kernel': 'poly'}"
            ]
          },
          "metadata": {},
          "execution_count": 129
        }
      ],
      "source": [
        "from sklearn import svm \n",
        "#cross validates across SVM model parameters to get best one\n",
        "\n",
        "\n",
        "param_grid={'C':[0.1,1,10,100],'gamma':[0.0001,0.001,0.1,1],'kernel':['rbf','linear','poly']}\n",
        "\n",
        "svc=svm.SVC()\n",
        "model=GridSearchCV(svc,param_grid)\n",
        "\n",
        "model.fit(x_train,y_train)\n",
        "model.best_params_\n"
      ]
    },
    {
      "cell_type": "code",
      "source": [
        "from sklearn import svm \n",
        "\n",
        "SVC=svm.SVC(C=.1,gamma=.1,kernel='poly')\n",
        "SVC.fit(x_train,y_train)\n",
        "\n",
        "y_pred=SVC.predict(x_test)\n",
        "print(accuracy_score(y_pred,y_test))\n",
        "cm = confusion_matrix(y_test,y_pred)\n",
        "disp = ConfusionMatrixDisplay(cm, display_labels=['wakefulness','deep sedation'])\n",
        "disp.plot(cmap='Blues')\n",
        "plt.show()\n",
        "print(classification_report(y_test,y_pred,target_names=['wakefulness','deep sedation']))"
      ],
      "metadata": {
        "colab": {
          "base_uri": "https://localhost:8080/",
          "height": 636
        },
        "id": "60PvjXeLpr4P",
        "outputId": "66e33da2-4a8f-4122-a4b2-e3f814dcf157"
      },
      "id": "60PvjXeLpr4P",
      "execution_count": null,
      "outputs": [
        {
          "output_type": "stream",
          "name": "stdout",
          "text": [
            "0.45\n"
          ]
        },
        {
          "output_type": "display_data",
          "data": {
            "text/plain": [
              "<Figure size 640x480 with 2 Axes>"
            ],
            "image/png": "[encoded data removed]"
          },
          "metadata": {}
        },
        {
          "output_type": "stream",
          "name": "stdout",
          "text": [
            "               precision    recall  f1-score   support\n",
            "\n",
            "  wakefulness       0.57      0.33      0.42        12\n",
            "deep sedation       0.38      0.62      0.48         8\n",
            "\n",
            "     accuracy                           0.45        20\n",
            "    macro avg       0.48      0.48      0.45        20\n",
            " weighted avg       0.50      0.45      0.44        20\n",
            "\n"
          ]
        }
      ]
    },
    {
      "cell_type": "code",
      "source": [
        "#only works for linear SVC\n",
        "#SVC.coef_ "
      ],
      "metadata": {
        "id": "7U3PkeLoRccS"
      },
      "id": "7U3PkeLoRccS",
      "execution_count": null,
      "outputs": []
    },
    {
      "cell_type": "code",
      "source": [
        "#cross validate data to determine best max_depth parameter\n",
        "from sklearn import tree\n",
        "# N=30 #largest max_depth\n",
        "# training_scores=np.zeros(N)\n",
        "# testing_scores=np.zeros(N)\n",
        "# depths=np.arange(1,31)\n",
        "\n",
        "\n",
        "# for d in range(1, 30):\n",
        "#     T = tree.DecisionTreeClassifier(max_depth = d)\n",
        "#     T.fit(x_train, y_train)\n",
        "#     training_scores[d-1]=T.score(x_train,y_train)\n",
        "#     testing_scores[d-1]=T.score(x_test,y_test)\n",
        "# print(training_scores,testing_scores)\n",
        "    \n",
        "    \n",
        "# fig, ax = plt.subplots(1, figsize = (10, 7))\n",
        "    \n",
        "# ax.scatter(depths,training_scores,color=\"black\",label=\"training\")\n",
        "# ax.scatter(depths,testing_scores,color=\"firebrick\",label=\"testing\")    \n",
        "# ax.set(xlabel = \"Complexity (depth)\", ylabel = \"Performance (score)\",ylim=(.73,1))\n",
        "# ax.legend()\n",
        "\n",
        "T = tree.DecisionTreeClassifier()\n",
        "\n",
        "max_depth = range(1,15)\n",
        "# Create the random grid\n",
        "random_grid = {'max_depth': max_depth}\n",
        "grid_search=GridSearchCV(T,param_grid=random_grid)\n",
        "grid_search.fit(x_train,y_train)\n",
        "grid_search.best_params_"
      ],
      "metadata": {
        "colab": {
          "base_uri": "https://localhost:8080/"
        },
        "id": "n0n40Uj-3ti9",
        "outputId": "e8ebade0-a829-4830-9f67-ec38a73daa9a"
      },
      "id": "n0n40Uj-3ti9",
      "execution_count": null,
      "outputs": [
        {
          "output_type": "execute_result",
          "data": {
            "text/plain": [
              "{'max_depth': 3}"
            ]
          },
          "metadata": {},
          "execution_count": 132
        }
      ]
    },
    {
      "cell_type": "code",
      "source": [
        "from sklearn import tree\n",
        "\n",
        "T=tree.DecisionTreeClassifier(max_depth=3)\n",
        "T.fit(x_train,y_train)"
      ],
      "metadata": {
        "colab": {
          "base_uri": "https://localhost:8080/",
          "height": 74
        },
        "id": "eC94Ijk72hMY",
        "outputId": "f07c19bb-5d3d-4f31-fe9e-0960ad440a9e"
      },
      "id": "eC94Ijk72hMY",
      "execution_count": null,
      "outputs": [
        {
          "output_type": "execute_result",
          "data": {
            "text/plain": [
              "DecisionTreeClassifier(max_depth=3)"
            ],
            "text/html": [
              "<style>#sk-container-id-3 {color: black;background-color: white;}#sk-container-id-3 pre{padding: 0;}#sk-container-id-3 div.sk-toggleable {background-color: white;}#sk-container-id-3 label.sk-toggleable__label {cursor: pointer;display: block;width: 100%;margin-bottom: 0;padding: 0.3em;box-sizing: border-box;text-align: center;}#sk-container-id-3 label.sk-toggleable__label-arrow:before {content: \"▸\";float: left;margin-right: 0.25em;color: #696969;}#sk-container-id-3 label.sk-toggleable__label-arrow:hover:before {color: black;}#sk-container-id-3 div.sk-estimator:hover label.sk-toggleable__label-arrow:before {color: black;}#sk-container-id-3 div.sk-toggleable__content {max-height: 0;max-width: 0;overflow: hidden;text-align: left;background-color: #f0f8ff;}#sk-container-id-3 div.sk-toggleable__content pre {margin: 0.2em;color: black;border-radius: 0.25em;background-color: #f0f8ff;}#sk-container-id-3 input.sk-toggleable__control:checked~div.sk-toggleable__content {max-height: 200px;max-width: 100%;overflow: auto;}#sk-container-id-3 input.sk-toggleable__control:checked~label.sk-toggleable__label-arrow:before {content: \"▾\";}#sk-container-id-3 div.sk-estimator input.sk-toggleable__control:checked~label.sk-toggleable__label {background-color: #d4ebff;}#sk-container-id-3 div.sk-label input.sk-toggleable__control:checked~label.sk-toggleable__label {background-color: #d4ebff;}#sk-container-id-3 input.sk-hidden--visually {border: 0;clip: rect(1px 1px 1px 1px);clip: rect(1px, 1px, 1px, 1px);height: 1px;margin: -1px;overflow: hidden;padding: 0;position: absolute;width: 1px;}#sk-container-id-3 div.sk-estimator {font-family: monospace;background-color: #f0f8ff;border: 1px dotted black;border-radius: 0.25em;box-sizing: border-box;margin-bottom: 0.5em;}#sk-container-id-3 div.sk-estimator:hover {background-color: #d4ebff;}#sk-container-id-3 div.sk-parallel-item::after {content: \"\";width: 100%;border-bottom: 1px solid gray;flex-grow: 1;}#sk-container-id-3 div.sk-label:hover label.sk-toggleable__label {background-color: #d4ebff;}#sk-container-id-3 div.sk-serial::before {content: \"\";position: absolute;border-left: 1px solid gray;box-sizing: border-box;top: 0;bottom: 0;left: 50%;z-index: 0;}#sk-container-id-3 div.sk-serial {display: flex;flex-direction: column;align-items: center;background-color: white;padding-right: 0.2em;padding-left: 0.2em;position: relative;}#sk-container-id-3 div.sk-item {position: relative;z-index: 1;}#sk-container-id-3 div.sk-parallel {display: flex;align-items: stretch;justify-content: center;background-color: white;position: relative;}#sk-container-id-3 div.sk-item::before, #sk-container-id-3 div.sk-parallel-item::before {content: \"\";position: absolute;border-left: 1px solid gray;box-sizing: border-box;top: 0;bottom: 0;left: 50%;z-index: -1;}#sk-container-id-3 div.sk-parallel-item {display: flex;flex-direction: column;z-index: 1;position: relative;background-color: white;}#sk-container-id-3 div.sk-parallel-item:first-child::after {align-self: flex-end;width: 50%;}#sk-container-id-3 div.sk-parallel-item:last-child::after {align-self: flex-start;width: 50%;}#sk-container-id-3 div.sk-parallel-item:only-child::after {width: 0;}#sk-container-id-3 div.sk-dashed-wrapped {border: 1px dashed gray;margin: 0 0.4em 0.5em 0.4em;box-sizing: border-box;padding-bottom: 0.4em;background-color: white;}#sk-container-id-3 div.sk-label label {font-family: monospace;font-weight: bold;display: inline-block;line-height: 1.2em;}#sk-container-id-3 div.sk-label-container {text-align: center;}#sk-container-id-3 div.sk-container {/* jupyter's `normalize.less` sets `[hidden] { display: none; }` but bootstrap.min.css set `[hidden] { display: none !important; }` so we also need the `!important` here to be able to override the default hidden behavior on the sphinx rendered scikit-learn.org. See: https://github.com/scikit-learn/scikit-learn/issues/21755 */display: inline-block !important;position: relative;}#sk-container-id-3 div.sk-text-repr-fallback {display: none;}</style><div id=\"sk-container-id-3\" class=\"sk-top-container\"><div class=\"sk-text-repr-fallback\"><pre>DecisionTreeClassifier(max_depth=3)</pre><b>In a Jupyter environment, please rerun this cell to show the HTML representation or trust the notebook. <br />On GitHub, the HTML representation is unable to render, please try loading this page with nbviewer.org.</b></div><div class=\"sk-container\" hidden><div class=\"sk-item\"><div class=\"sk-estimator sk-toggleable\"><input class=\"sk-toggleable__control sk-hidden--visually\" id=\"sk-estimator-id-5\" type=\"checkbox\" checked><label for=\"sk-estimator-id-5\" class=\"sk-toggleable__label sk-toggleable__label-arrow\">DecisionTreeClassifier</label><div class=\"sk-toggleable__content\"><pre>DecisionTreeClassifier(max_depth=3)</pre></div></div></div></div></div>"
            ]
          },
          "metadata": {},
          "execution_count": 133
        }
      ]
    },
    {
      "cell_type": "code",
      "source": [
        "y_pred=T.predict(x_test)\n",
        "accuracy_score(y_pred,y_test)\n",
        "cm = confusion_matrix(y_test,y_pred)\n",
        "disp = ConfusionMatrixDisplay(cm, display_labels=['wakefulness','deep sedation'])\n",
        "disp.plot(cmap='Blues')\n",
        "plt.show()\n",
        "print(classification_report(y_test,y_pred,target_names=['wakefulness','deep sedation']))"
      ],
      "metadata": {
        "colab": {
          "base_uri": "https://localhost:8080/",
          "height": 612
        },
        "id": "OXonWKP32um0",
        "outputId": "44911dd5-fc3a-4ded-e289-df6f5a4afbb6"
      },
      "id": "OXonWKP32um0",
      "execution_count": null,
      "outputs": [
        {
          "output_type": "display_data",
          "data": {
            "text/plain": [
              "<Figure size 640x480 with 2 Axes>"
            ],
            "image/png": "[encoded data removed]"
          },
          "metadata": {}
        },
        {
          "output_type": "stream",
          "name": "stdout",
          "text": [
            "               precision    recall  f1-score   support\n",
            "\n",
            "  wakefulness       0.61      0.92      0.73        12\n",
            "deep sedation       0.50      0.12      0.20         8\n",
            "\n",
            "     accuracy                           0.60        20\n",
            "    macro avg       0.56      0.52      0.47        20\n",
            " weighted avg       0.57      0.60      0.52        20\n",
            "\n"
          ]
        }
      ]
    },
    {
      "cell_type": "code",
      "source": [
        "from sklearn.neighbors import KNeighborsClassifier\n",
        "\n",
        "#cross validate data to determine best max_depth parameter\n",
        "\n",
        "# N=10 #largest max_depth\n",
        "# training_scores=np.zeros(N)\n",
        "# testing_scores=np.zeros(N)\n",
        "# neighbors=np.arange(1,11)\n",
        "\n",
        "# for d in range(1, 11):\n",
        "#     knn = KNeighborsClassifier(n_neighbors = d)\n",
        "#     knn.fit(x_train, y_train)\n",
        "#     y_pred=knn.predict(x_test)\n",
        "#     training_scores[d-1]=accuracy_score(y_pred,y_test)\n",
        "#     testing_scores[d-1]=accuracy_score(y_pred,y_test)\n",
        "    \n",
        "# print(training_scores,testing_scores)\n",
        "# fig, ax = plt.subplots(1, figsize = (10, 7))\n",
        "    \n",
        "# ax.scatter(neighbors,training_scores,color=\"black\",label=\"training\")\n",
        "# ax.scatter(neighbors,testing_scores,color=\"firebrick\",label=\"testing\")    \n",
        "# ax.set(xlabel = \"Complexity (depth)\", ylabel = \"Performance (score)\",ylim=(0,1))\n",
        "# ax.legend()\n",
        "\n",
        "KNN = KNeighborsClassifier()\n",
        "\n",
        "n_neighbors = range(1,15)\n",
        "# Create the random grid\n",
        "random_grid = {'n_neighbors': n_neighbors}\n",
        "grid_search=GridSearchCV(KNN,param_grid=random_grid)\n",
        "grid_search.fit(x_train,y_train)\n",
        "grid_search.best_params_"
      ],
      "metadata": {
        "colab": {
          "base_uri": "https://localhost:8080/"
        },
        "id": "GYRPdscx4jPa",
        "outputId": "e47f6038-d071-4feb-f490-ed1d0f5cbfa3"
      },
      "id": "GYRPdscx4jPa",
      "execution_count": null,
      "outputs": [
        {
          "output_type": "execute_result",
          "data": {
            "text/plain": [
              "{'n_neighbors': 6}"
            ]
          },
          "metadata": {},
          "execution_count": 137
        }
      ]
    },
    {
      "cell_type": "code",
      "source": [
        "#choose k=7\n",
        "from sklearn.neighbors import KNeighborsClassifier\n",
        "\n",
        "knn=KNeighborsClassifier(n_neighbors=6)\n",
        "knn.fit(x_train,y_train)\n",
        "y_pred=knn.predict(x_test)\n",
        "accuracy_score(y_pred,y_test)\n",
        "cm = confusion_matrix(y_test,y_pred)\n",
        "disp = ConfusionMatrixDisplay(cm, display_labels=['wakefulness','deep sedation'])\n",
        "disp.plot(cmap='Blues')\n",
        "plt.show()\n",
        "print(classification_report(y_test,y_pred,target_names=['wakefulness','deep sedation']))"
      ],
      "metadata": {
        "colab": {
          "base_uri": "https://localhost:8080/",
          "height": 618
        },
        "id": "FlBWg-zm712K",
        "outputId": "74e6acf4-dae1-48b7-9011-1ca04354e5a7"
      },
      "id": "FlBWg-zm712K",
      "execution_count": null,
      "outputs": [
        {
          "output_type": "display_data",
          "data": {
            "text/plain": [
              "<Figure size 640x480 with 2 Axes>"
            ],
            "image/png": "[encoded data removed]"
          },
          "metadata": {}
        },
        {
          "output_type": "stream",
          "name": "stdout",
          "text": [
            "               precision    recall  f1-score   support\n",
            "\n",
            "  wakefulness       0.58      0.58      0.58        12\n",
            "deep sedation       0.38      0.38      0.38         8\n",
            "\n",
            "     accuracy                           0.50        20\n",
            "    macro avg       0.48      0.48      0.48        20\n",
            " weighted avg       0.50      0.50      0.50        20\n",
            "\n"
          ]
        }
      ]
    },
    {
      "cell_type": "code",
      "source": [
        "from sklearn.naive_bayes import GaussianNB\n",
        "\n",
        "GNB = GaussianNB()\n",
        "GNB.fit(x_train, y_train)\n",
        "y_pred=GNB.predict(x_test)\n",
        "accuracy_score(y_pred,y_test)\n",
        "cm = confusion_matrix(y_test,y_pred)\n",
        "disp = ConfusionMatrixDisplay(cm, display_labels=['wakefulness','deep sedation'])\n",
        "disp.plot(cmap='Blues')\n",
        "plt.show()\n",
        "print(classification_report(y_test,y_pred,target_names=['wakefulness','deep sedation']))"
      ],
      "metadata": {
        "colab": {
          "base_uri": "https://localhost:8080/",
          "height": 747
        },
        "id": "U-mkZhCy9ZmK",
        "outputId": "e813edc6-f479-42c8-9700-3e70cafa9063"
      },
      "id": "U-mkZhCy9ZmK",
      "execution_count": null,
      "outputs": [
        {
          "output_type": "display_data",
          "data": {
            "text/plain": [
              "<Figure size 640x480 with 2 Axes>"
            ],
            "image/png": "[encoded data removed]"
          },
          "metadata": {}
        },
        {
          "output_type": "stream",
          "name": "stdout",
          "text": [
            "               precision    recall  f1-score   support\n",
            "\n",
            "  wakefulness       0.00      0.00      0.00        12\n",
            "deep sedation       0.40      1.00      0.57         8\n",
            "\n",
            "     accuracy                           0.40        20\n",
            "    macro avg       0.20      0.50      0.29        20\n",
            " weighted avg       0.16      0.40      0.23        20\n",
            "\n"
          ]
        },
        {
          "output_type": "stream",
          "name": "stderr",
          "text": [
            "/usr/local/lib/python3.10/dist-packages/sklearn/metrics/_classification.py:1344: UndefinedMetricWarning: Precision and F-score are ill-defined and being set to 0.0 in labels with no predicted samples. Use `zero_division` parameter to control this behavior.\n",
            "  _warn_prf(average, modifier, msg_start, len(result))\n",
            "/usr/local/lib/python3.10/dist-packages/sklearn/metrics/_classification.py:1344: UndefinedMetricWarning: Precision and F-score are ill-defined and being set to 0.0 in labels with no predicted samples. Use `zero_division` parameter to control this behavior.\n",
            "  _warn_prf(average, modifier, msg_start, len(result))\n",
            "/usr/local/lib/python3.10/dist-packages/sklearn/metrics/_classification.py:1344: UndefinedMetricWarning: Precision and F-score are ill-defined and being set to 0.0 in labels with no predicted samples. Use `zero_division` parameter to control this behavior.\n",
            "  _warn_prf(average, modifier, msg_start, len(result))\n"
          ]
        }
      ]
    },
    {
      "cell_type": "code",
      "source": [
        "from sklearn.ensemble import RandomForestClassifier\n",
        "\n",
        "n_estimators = [90,100,115,130]\n",
        "# Number of features to consider at every split\n",
        "max_features = ['auto', 'log2']\n",
        "# Maximum number of levels in tree\n",
        "max_depth = [2, 10, 15, 20]\n",
        "# Minimum number of samples required to split a node\n",
        "min_samples_split = [2, 5, 10]\n",
        "# Minimum number of samples required at each leaf node\n",
        "min_samples_leaf = [1, 2, 4]\n",
        "# Method of selecting samples for training each tree\n",
        "criterion = ['gini','entropy']\n",
        "# Create the random grid\n",
        "random_grid = {'n_estimators': n_estimators,\n",
        "               'max_features': max_features,\n",
        "               'max_depth': max_depth,\n",
        "               'min_samples_split': min_samples_split,\n",
        "               'min_samples_leaf': min_samples_leaf,\n",
        "               'criterion': criterion}\n",
        "\n",
        "\n",
        "RF = RandomForestClassifier()\n",
        "grid_search=RandomizedSearchCV(RF,random_grid)\n",
        "grid_search.fit(x_train,y_train)"
      ],
      "metadata": {
        "id": "QL4_12Xc-yHY",
        "colab": {
          "base_uri": "https://localhost:8080/",
          "height": 499
        },
        "outputId": "d8a9ffcf-9ec4-4969-e48e-dd2334f1dc01"
      },
      "id": "QL4_12Xc-yHY",
      "execution_count": null,
      "outputs": [
        {
          "output_type": "stream",
          "name": "stderr",
          "text": [
            "/usr/local/lib/python3.10/dist-packages/sklearn/ensemble/_forest.py:424: FutureWarning: `max_features='auto'` has been deprecated in 1.1 and will be removed in 1.3. To keep the past behaviour, explicitly set `max_features='sqrt'` or remove this parameter as it is also the default value for RandomForestClassifiers and ExtraTreesClassifiers.\n",
            "  warn(\n",
            "/usr/local/lib/python3.10/dist-packages/sklearn/ensemble/_forest.py:424: FutureWarning: `max_features='auto'` has been deprecated in 1.1 and will be removed in 1.3. To keep the past behaviour, explicitly set `max_features='sqrt'` or remove this parameter as it is also the default value for RandomForestClassifiers and ExtraTreesClassifiers.\n",
            "  warn(\n",
            "/usr/local/lib/python3.10/dist-packages/sklearn/ensemble/_forest.py:424: FutureWarning: `max_features='auto'` has been deprecated in 1.1 and will be removed in 1.3. To keep the past behaviour, explicitly set `max_features='sqrt'` or remove this parameter as it is also the default value for RandomForestClassifiers and ExtraTreesClassifiers.\n",
            "  warn(\n",
            "/usr/local/lib/python3.10/dist-packages/sklearn/ensemble/_forest.py:424: FutureWarning: `max_features='auto'` has been deprecated in 1.1 and will be removed in 1.3. To keep the past behaviour, explicitly set `max_features='sqrt'` or remove this parameter as it is also the default value for RandomForestClassifiers and ExtraTreesClassifiers.\n",
            "  warn(\n",
            "/usr/local/lib/python3.10/dist-packages/sklearn/ensemble/_forest.py:424: FutureWarning: `max_features='auto'` has been deprecated in 1.1 and will be removed in 1.3. To keep the past behaviour, explicitly set `max_features='sqrt'` or remove this parameter as it is also the default value for RandomForestClassifiers and ExtraTreesClassifiers.\n",
            "  warn(\n",
            "/usr/local/lib/python3.10/dist-packages/sklearn/ensemble/_forest.py:424: FutureWarning: `max_features='auto'` has been deprecated in 1.1 and will be removed in 1.3. To keep the past behaviour, explicitly set `max_features='sqrt'` or remove this parameter as it is also the default value for RandomForestClassifiers and ExtraTreesClassifiers.\n",
            "  warn(\n",
            "/usr/local/lib/python3.10/dist-packages/sklearn/ensemble/_forest.py:424: FutureWarning: `max_features='auto'` has been deprecated in 1.1 and will be removed in 1.3. To keep the past behaviour, explicitly set `max_features='sqrt'` or remove this parameter as it is also the default value for RandomForestClassifiers and ExtraTreesClassifiers.\n",
            "  warn(\n",
            "/usr/local/lib/python3.10/dist-packages/sklearn/ensemble/_forest.py:424: FutureWarning: `max_features='auto'` has been deprecated in 1.1 and will be removed in 1.3. To keep the past behaviour, explicitly set `max_features='sqrt'` or remove this parameter as it is also the default value for RandomForestClassifiers and ExtraTreesClassifiers.\n",
            "  warn(\n",
            "/usr/local/lib/python3.10/dist-packages/sklearn/ensemble/_forest.py:424: FutureWarning: `max_features='auto'` has been deprecated in 1.1 and will be removed in 1.3. To keep the past behaviour, explicitly set `max_features='sqrt'` or remove this parameter as it is also the default value for RandomForestClassifiers and ExtraTreesClassifiers.\n",
            "  warn(\n",
            "/usr/local/lib/python3.10/dist-packages/sklearn/ensemble/_forest.py:424: FutureWarning: `max_features='auto'` has been deprecated in 1.1 and will be removed in 1.3. To keep the past behaviour, explicitly set `max_features='sqrt'` or remove this parameter as it is also the default value for RandomForestClassifiers and ExtraTreesClassifiers.\n",
            "  warn(\n"
          ]
        },
        {
          "output_type": "execute_result",
          "data": {
            "text/plain": [
              "RandomizedSearchCV(estimator=RandomForestClassifier(),\n",
              "                   param_distributions={'criterion': ['gini', 'entropy'],\n",
              "                                        'max_depth': [2, 10, 15, 20],\n",
              "                                        'max_features': ['auto', 'log2'],\n",
              "                                        'min_samples_leaf': [1, 2, 4],\n",
              "                                        'min_samples_split': [2, 5, 10],\n",
              "                                        'n_estimators': [90, 100, 115, 130]})"
            ],
            "text/html": [
              "<style>#sk-container-id-4 {color: black;background-color: white;}#sk-container-id-4 pre{padding: 0;}#sk-container-id-4 div.sk-toggleable {background-color: white;}#sk-container-id-4 label.sk-toggleable__label {cursor: pointer;display: block;width: 100%;margin-bottom: 0;padding: 0.3em;box-sizing: border-box;text-align: center;}#sk-container-id-4 label.sk-toggleable__label-arrow:before {content: \"▸\";float: left;margin-right: 0.25em;color: #696969;}#sk-container-id-4 label.sk-toggleable__label-arrow:hover:before {color: black;}#sk-container-id-4 div.sk-estimator:hover label.sk-toggleable__label-arrow:before {color: black;}#sk-container-id-4 div.sk-toggleable__content {max-height: 0;max-width: 0;overflow: hidden;text-align: left;background-color: #f0f8ff;}#sk-container-id-4 div.sk-toggleable__content pre {margin: 0.2em;color: black;border-radius: 0.25em;background-color: #f0f8ff;}#sk-container-id-4 input.sk-toggleable__control:checked~div.sk-toggleable__content {max-height: 200px;max-width: 100%;overflow: auto;}#sk-container-id-4 input.sk-toggleable__control:checked~label.sk-toggleable__label-arrow:before {content: \"▾\";}#sk-container-id-4 div.sk-estimator input.sk-toggleable__control:checked~label.sk-toggleable__label {background-color: #d4ebff;}#sk-container-id-4 div.sk-label input.sk-toggleable__control:checked~label.sk-toggleable__label {background-color: #d4ebff;}#sk-container-id-4 input.sk-hidden--visually {border: 0;clip: rect(1px 1px 1px 1px);clip: rect(1px, 1px, 1px, 1px);height: 1px;margin: -1px;overflow: hidden;padding: 0;position: absolute;width: 1px;}#sk-container-id-4 div.sk-estimator {font-family: monospace;background-color: #f0f8ff;border: 1px dotted black;border-radius: 0.25em;box-sizing: border-box;margin-bottom: 0.5em;}#sk-container-id-4 div.sk-estimator:hover {background-color: #d4ebff;}#sk-container-id-4 div.sk-parallel-item::after {content: \"\";width: 100%;border-bottom: 1px solid gray;flex-grow: 1;}#sk-container-id-4 div.sk-label:hover label.sk-toggleable__label {background-color: #d4ebff;}#sk-container-id-4 div.sk-serial::before {content: \"\";position: absolute;border-left: 1px solid gray;box-sizing: border-box;top: 0;bottom: 0;left: 50%;z-index: 0;}#sk-container-id-4 div.sk-serial {display: flex;flex-direction: column;align-items: center;background-color: white;padding-right: 0.2em;padding-left: 0.2em;position: relative;}#sk-container-id-4 div.sk-item {position: relative;z-index: 1;}#sk-container-id-4 div.sk-parallel {display: flex;align-items: stretch;justify-content: center;background-color: white;position: relative;}#sk-container-id-4 div.sk-item::before, #sk-container-id-4 div.sk-parallel-item::before {content: \"\";position: absolute;border-left: 1px solid gray;box-sizing: border-box;top: 0;bottom: 0;left: 50%;z-index: -1;}#sk-container-id-4 div.sk-parallel-item {display: flex;flex-direction: column;z-index: 1;position: relative;background-color: white;}#sk-container-id-4 div.sk-parallel-item:first-child::after {align-self: flex-end;width: 50%;}#sk-container-id-4 div.sk-parallel-item:last-child::after {align-self: flex-start;width: 50%;}#sk-container-id-4 div.sk-parallel-item:only-child::after {width: 0;}#sk-container-id-4 div.sk-dashed-wrapped {border: 1px dashed gray;margin: 0 0.4em 0.5em 0.4em;box-sizing: border-box;padding-bottom: 0.4em;background-color: white;}#sk-container-id-4 div.sk-label label {font-family: monospace;font-weight: bold;display: inline-block;line-height: 1.2em;}#sk-container-id-4 div.sk-label-container {text-align: center;}#sk-container-id-4 div.sk-container {/* jupyter's `normalize.less` sets `[hidden] { display: none; }` but bootstrap.min.css set `[hidden] { display: none !important; }` so we also need the `!important` here to be able to override the default hidden behavior on the sphinx rendered scikit-learn.org. See: https://github.com/scikit-learn/scikit-learn/issues/21755 */display: inline-block !important;position: relative;}#sk-container-id-4 div.sk-text-repr-fallback {display: none;}</style><div id=\"sk-container-id-4\" class=\"sk-top-container\"><div class=\"sk-text-repr-fallback\"><pre>RandomizedSearchCV(estimator=RandomForestClassifier(),\n",
              "                   param_distributions={&#x27;criterion&#x27;: [&#x27;gini&#x27;, &#x27;entropy&#x27;],\n",
              "                                        &#x27;max_depth&#x27;: [2, 10, 15, 20],\n",
              "                                        &#x27;max_features&#x27;: [&#x27;auto&#x27;, &#x27;log2&#x27;],\n",
              "                                        &#x27;min_samples_leaf&#x27;: [1, 2, 4],\n",
              "                                        &#x27;min_samples_split&#x27;: [2, 5, 10],\n",
              "                                        &#x27;n_estimators&#x27;: [90, 100, 115, 130]})</pre><b>In a Jupyter environment, please rerun this cell to show the HTML representation or trust the notebook. <br />On GitHub, the HTML representation is unable to render, please try loading this page with nbviewer.org.</b></div><div class=\"sk-container\" hidden><div class=\"sk-item sk-dashed-wrapped\"><div class=\"sk-label-container\"><div class=\"sk-label sk-toggleable\"><input class=\"sk-toggleable__control sk-hidden--visually\" id=\"sk-estimator-id-6\" type=\"checkbox\" ><label for=\"sk-estimator-id-6\" class=\"sk-toggleable__label sk-toggleable__label-arrow\">RandomizedSearchCV</label><div class=\"sk-toggleable__content\"><pre>RandomizedSearchCV(estimator=RandomForestClassifier(),\n",
              "                   param_distributions={&#x27;criterion&#x27;: [&#x27;gini&#x27;, &#x27;entropy&#x27;],\n",
              "                                        &#x27;max_depth&#x27;: [2, 10, 15, 20],\n",
              "                                        &#x27;max_features&#x27;: [&#x27;auto&#x27;, &#x27;log2&#x27;],\n",
              "                                        &#x27;min_samples_leaf&#x27;: [1, 2, 4],\n",
              "                                        &#x27;min_samples_split&#x27;: [2, 5, 10],\n",
              "                                        &#x27;n_estimators&#x27;: [90, 100, 115, 130]})</pre></div></div></div><div class=\"sk-parallel\"><div class=\"sk-parallel-item\"><div class=\"sk-item\"><div class=\"sk-label-container\"><div class=\"sk-label sk-toggleable\"><input class=\"sk-toggleable__control sk-hidden--visually\" id=\"sk-estimator-id-7\" type=\"checkbox\" ><label for=\"sk-estimator-id-7\" class=\"sk-toggleable__label sk-toggleable__label-arrow\">estimator: RandomForestClassifier</label><div class=\"sk-toggleable__content\"><pre>RandomForestClassifier()</pre></div></div></div><div class=\"sk-serial\"><div class=\"sk-item\"><div class=\"sk-estimator sk-toggleable\"><input class=\"sk-toggleable__control sk-hidden--visually\" id=\"sk-estimator-id-8\" type=\"checkbox\" ><label for=\"sk-estimator-id-8\" class=\"sk-toggleable__label sk-toggleable__label-arrow\">RandomForestClassifier</label><div class=\"sk-toggleable__content\"><pre>RandomForestClassifier()</pre></div></div></div></div></div></div></div></div></div></div>"
            ]
          },
          "metadata": {},
          "execution_count": 140
        }
      ]
    },
    {
      "cell_type": "code",
      "source": [
        "grid_search.best_params_"
      ],
      "metadata": {
        "colab": {
          "base_uri": "https://localhost:8080/"
        },
        "id": "bQJJuJuQAfb2",
        "outputId": "c391a7f4-16df-499a-fa24-ea3847501eb8"
      },
      "id": "bQJJuJuQAfb2",
      "execution_count": null,
      "outputs": [
        {
          "output_type": "execute_result",
          "data": {
            "text/plain": [
              "{'n_estimators': 100,\n",
              " 'min_samples_split': 5,\n",
              " 'min_samples_leaf': 1,\n",
              " 'max_features': 'auto',\n",
              " 'max_depth': 20,\n",
              " 'criterion': 'entropy'}"
            ]
          },
          "metadata": {},
          "execution_count": 141
        }
      ]
    },
    {
      "cell_type": "code",
      "source": [
        "from sklearn.ensemble import RandomForestClassifier\n",
        "\n",
        "RF=RandomForestClassifier(criterion='gini',\n",
        "                          max_depth=15,\n",
        "                          max_features='log2',\n",
        "                          min_samples_leaf=4,\n",
        "                          min_samples_split=5,\n",
        "                          n_estimators=100)\n",
        "# RF=RandomForestClassifier(criterion='entropy',\n",
        "#                           max_depth=10,\n",
        "#                           max_features='auto',\n",
        "#                           min_samples_leaf=4,\n",
        "#                           min_samples_split=10,\n",
        "#                           n_estimators=115)\n",
        "RF.fit(x_train,y_train)\n",
        "y_pred=RF.predict(x_test)\n",
        "#print(classification_report(y_pred,y_test))\n",
        "#print(confusion_matrix(y_pred,y_test))\n",
        "print(accuracy_score(y_pred,y_test))\n",
        "\n",
        "cm = confusion_matrix(y_test,y_pred)\n",
        "disp = ConfusionMatrixDisplay(cm, display_labels=['wakefulness','deep sedation'])\n",
        "disp.plot(cmap='Blues')\n",
        "plt.show()\n",
        "print(classification_report(y_test,y_pred,target_names=['wakefulness','deep sedation']))"
      ],
      "metadata": {
        "colab": {
          "base_uri": "https://localhost:8080/",
          "height": 630
        },
        "id": "xBoZWi9VAybM",
        "outputId": "07a31b17-17d5-4e6d-a512-c5221dc03592"
      },
      "id": "xBoZWi9VAybM",
      "execution_count": null,
      "outputs": [
        {
          "output_type": "stream",
          "name": "stdout",
          "text": [
            "0.6744186046511628\n"
          ]
        },
        {
          "output_type": "display_data",
          "data": {
            "text/plain": [
              "<Figure size 640x480 with 2 Axes>"
            ],
            "image/png": "[encoded data removed]"
          },
          "metadata": {}
        },
        {
          "output_type": "stream",
          "name": "stdout",
          "text": [
            "               precision    recall  f1-score   support\n",
            "\n",
            "  wakefulness       0.76      0.70      0.73        27\n",
            "deep sedation       0.56      0.62      0.59        16\n",
            "\n",
            "     accuracy                           0.67        43\n",
            "    macro avg       0.66      0.66      0.66        43\n",
            " weighted avg       0.68      0.67      0.68        43\n",
            "\n"
          ]
        }
      ]
    },
    {
      "cell_type": "code",
      "source": [
        "model.summary() #limit # of trainable parameters (conv2D provides limitations,takes less time than Dense layers would)"
      ],
      "metadata": {
        "colab": {
          "base_uri": "https://localhost:8080/",
          "height": 170
        },
        "id": "c8TruvCZSeKZ",
        "outputId": "7bec366b-a75a-4c34-89ed-7097a912c104"
      },
      "id": "c8TruvCZSeKZ",
      "execution_count": null,
      "outputs": [
        {
          "output_type": "error",
          "ename": "AttributeError",
          "evalue": "ignored",
          "traceback": [
            "\u001b[0;31m---------------------------------------------------------------------------\u001b[0m",
            "\u001b[0;31mAttributeError\u001b[0m                            Traceback (most recent call last)",
            "\u001b[0;32m<ipython-input-126-b3d2e36cead6>\u001b[0m in \u001b[0;36m<cell line: 1>\u001b[0;34m()\u001b[0m\n\u001b[0;32m----> 1\u001b[0;31m \u001b[0mmodel\u001b[0m\u001b[0;34m.\u001b[0m\u001b[0msummary\u001b[0m\u001b[0;34m(\u001b[0m\u001b[0;34m)\u001b[0m \u001b[0;31m#limit # of trainable parameters (conv2D provides limitations,takes less time than Dense layers would)\u001b[0m\u001b[0;34m\u001b[0m\u001b[0;34m\u001b[0m\u001b[0m\n\u001b[0m",
            "\u001b[0;31mAttributeError\u001b[0m: 'GridSearchCV' object has no attribute 'summary'"
          ]
        }
      ]
    },
    {
      "cell_type": "markdown",
      "id": "expanded-image",
      "metadata": {
        "id": "expanded-image"
      },
      "source": [
        "Let's see how our model does over epochs! "
      ]
    },
    {
      "cell_type": "code",
      "execution_count": null,
      "id": "h1v6jsExdQbd",
      "metadata": {
        "id": "h1v6jsExdQbd"
      },
      "outputs": [],
      "source": [
        "plt.plot(history.history[\"accuracy\"],label='training')\n",
        "plt.plot(history.history[\"val_accuracy\"],label='validation')\n",
        "plt.legend()"
      ]
    },
    {
      "cell_type": "markdown",
      "id": "stuck-fifty",
      "metadata": {
        "id": "stuck-fifty"
      },
      "source": [
        "## Extracting Predictions"
      ]
    },
    {
      "cell_type": "code",
      "source": [
        "y_pred,y_test"
      ],
      "metadata": {
        "colab": {
          "base_uri": "https://localhost:8080/"
        },
        "id": "xSk720s54xGh",
        "outputId": "27544151-c709-4b6b-fa0b-ed98f2887619"
      },
      "id": "xSk720s54xGh",
      "execution_count": null,
      "outputs": [
        {
          "output_type": "execute_result",
          "data": {
            "text/plain": [
              "(array([1., 1., 1., 0., 0., 0., 1., 0., 0., 0., 1., 1., 0., 0., 1., 0., 0.,\n",
              "        1., 1., 0., 0., 0., 0., 0., 0., 1., 0., 0., 0., 0., 0., 0., 0., 0.,\n",
              "        1., 1., 0., 0., 0., 0., 1., 0., 0.]),\n",
              " array([0., 1., 0., 1., 0., 0., 0., 1., 0., 1., 0., 1., 0., 0., 1., 0., 0.,\n",
              "        0., 1., 0., 0., 1., 0., 0., 0., 1., 0., 0., 1., 0., 1., 0., 0., 1.,\n",
              "        0., 1., 0., 1., 0., 0., 1., 1., 0.]))"
            ]
          },
          "metadata": {},
          "execution_count": 280
        }
      ]
    },
    {
      "cell_type": "markdown",
      "id": "democratic-column",
      "metadata": {
        "id": "democratic-column"
      },
      "source": [
        "Let's see how our model did on the test data: "
      ]
    },
    {
      "cell_type": "code",
      "execution_count": null,
      "id": "thirty-footage",
      "metadata": {
        "id": "thirty-footage",
        "colab": {
          "base_uri": "https://localhost:8080/"
        },
        "outputId": "609465b6-bae5-41af-cf2c-15d3f2df9d42"
      },
      "outputs": [
        {
          "output_type": "execute_result",
          "data": {
            "text/plain": [
              "array([0., 1., 1., 1., 0., 1., 0., 0.])"
            ]
          },
          "metadata": {},
          "execution_count": 16
        }
      ],
      "source": [
        "y_pred=model.predict(x_test)\n",
        "y_pred"
      ]
    },
    {
      "cell_type": "markdown",
      "id": "classified-desert",
      "metadata": {
        "id": "classified-desert"
      },
      "source": [
        "We'll plot these predicted labels along side the (true labels). "
      ]
    },
    {
      "cell_type": "code",
      "execution_count": null,
      "id": "proprietary-corner",
      "metadata": {
        "id": "proprietary-corner",
        "colab": {
          "base_uri": "https://localhost:8080/",
          "height": 362
        },
        "outputId": "5fadfd91-be42-4913-f720-2d29071f84ac"
      },
      "outputs": [
        {
          "output_type": "display_data",
          "data": {
            "text/plain": [
              "<Figure size 1000x400 with 8 Axes>"
            ],
            "image/png": "[encoded data removed]"
          },
          "metadata": {}
        }
      ],
      "source": [
        "plt.figure(figsize=(10,4))\n",
        "for i, num in enumerate([1, 3, 4, 5, 6, 11,14,16]):\n",
        "    plt.subplot(2,4,i+1)\n",
        "    plt.xticks([])\n",
        "    plt.yticks([])\n",
        "    plt.grid(False)\n",
        "    plt.imshow(np.reshape(x_test[num],(55,100)))\n",
        "    lab=int(y_test[num])\n",
        "    plt.xlabel(train_labels[int(y_pred[num])] + f\" ({train_labels[lab]})\")\n",
        "plt.tight_layout()\n",
        "plt.show()"
      ]
    },
    {
      "cell_type": "markdown",
      "source": [
        "# Generating Group Means\n",
        "\n",
        "\n",
        "\n"
      ],
      "metadata": {
        "id": "3lU5VCANikNS"
      },
      "id": "3lU5VCANikNS"
    },
    {
      "cell_type": "code",
      "source": [
        "all_data=np.concatenate([all_data,all_test_data])\n",
        "all_labels=np.concatenate([all_labels,all_test_labels])"
      ],
      "metadata": {
        "id": "J-iQ32y_JRSf"
      },
      "id": "J-iQ32y_JRSf",
      "execution_count": null,
      "outputs": []
    },
    {
      "cell_type": "code",
      "source": [
        "wake=[]\n",
        "unconscious=[]\n",
        "recovery=[]\n",
        "\n",
        "for i, label in enumerate(all_labels):\n",
        "  if label==0:\n",
        "    wake.append(all_data[i])\n",
        "  elif label==1:\n",
        "    unconscious.append(all_data[i])\n",
        "  elif label==2:\n",
        "    recovery.append(all_data[i]) # if exists in data breakdown\n",
        "\n",
        "wake_mean = np.mean(np.array(wake),axis=0)\n",
        "unconscious_mean = np.mean(np.array(unconscious),axis=0)\n",
        "if len(recovery) != 0:\n",
        "  recovery_mean = np.mean(np.array(recovery),axis=0)"
      ],
      "metadata": {
        "id": "_og6QWKAjfl9"
      },
      "id": "_og6QWKAjfl9",
      "execution_count": null,
      "outputs": []
    },
    {
      "cell_type": "code",
      "source": [
        "wake"
      ],
      "metadata": {
        "colab": {
          "base_uri": "https://localhost:8080/"
        },
        "id": "B2AiwwPeolSZ",
        "outputId": "986d6f72-1434-46d2-d9ca-a261eec7858a"
      },
      "id": "B2AiwwPeolSZ",
      "execution_count": null,
      "outputs": [
        {
          "output_type": "execute_result",
          "data": {
            "text/plain": [
              "[array([0.6063963 , 0.63272848, 0.64782544, ..., 0.04960047, 0.04559763,\n",
              "        0.04383665]),\n",
              " array([0.63849451, 0.65727979, 0.66666336, ..., 0.04006836, 0.03433779,\n",
              "        0.03383322]),\n",
              " array([0.67866132, 0.68726446, 0.69125865, ..., 0.03261001, 0.0324511 ,\n",
              "        0.0313118 ]),\n",
              " array([0.61874907, 0.64221095, 0.65630977, ..., 0.04807099, 0.04852619,\n",
              "        0.04643348]),\n",
              " array([0.59960685, 0.62718563, 0.64373518, ..., 0.05750966, 0.05814729,\n",
              "        0.05573593]),\n",
              " array([0.62637483, 0.64777175, 0.66094452, ..., 0.05098403, 0.05059785,\n",
              "        0.04907268]),\n",
              " array([0.60541903, 0.63221419, 0.6485159 , ..., 0.03844944, 0.04162384,\n",
              "        0.03518492]),\n",
              " array([0.61860406, 0.64119264, 0.65534221, ..., 0.04221289, 0.04414576,\n",
              "        0.04279933]),\n",
              " array([0.61976253, 0.64313392, 0.65682475, ..., 0.04848098, 0.04965552,\n",
              "        0.05406717]),\n",
              " array([0.623037  , 0.64550112, 0.65885403, ..., 0.05639288, 0.05631841,\n",
              "        0.05719039]),\n",
              " array([0.71206307, 0.71202861, 0.71238437, ..., 0.04093081, 0.03911492,\n",
              "        0.04062546]),\n",
              " array([0.7109249 , 0.71119694, 0.71165976, ..., 0.04313156, 0.04142179,\n",
              "        0.04261608]),\n",
              " array([0.68571397, 0.69157559, 0.69574584, ..., 0.04433703, 0.04687393,\n",
              "        0.04485019]),\n",
              " array([0.70896536, 0.7096057 , 0.71005425, ..., 0.05638925, 0.05560319,\n",
              "        0.06107454]),\n",
              " array([0.71299459, 0.71311593, 0.71322972, ..., 0.05553748, 0.04185886,\n",
              "        0.03417518]),\n",
              " array([0.71292884, 0.71311077, 0.71317533, ..., 0.05714413, 0.06041497,\n",
              "        0.06327028]),\n",
              " array([0.71219918, 0.71259056, 0.71282492, ..., 0.06100768, 0.0546422 ,\n",
              "        0.05220499]),\n",
              " array([0.71281663, 0.71296058, 0.71312951, ..., 0.03161675, 0.03665583,\n",
              "        0.04015055]),\n",
              " array([0.71255236, 0.71237956, 0.71264561, ..., 0.07984209, 0.07153405,\n",
              "        0.06222846]),\n",
              " array([0.7132734 , 0.71336577, 0.71342828, ..., 0.03098852, 0.03456067,\n",
              "        0.04487933]),\n",
              " array([0.71322653, 0.71253309, 0.71278457, ..., 0.08015678, 0.07361876,\n",
              "        0.08195746]),\n",
              " array([0.70733125, 0.70883624, 0.70976234, ..., 0.04797878, 0.04429553,\n",
              "        0.05353783]),\n",
              " array([0.7071799 , 0.70823102, 0.70932249, ..., 0.04003555, 0.04465399,\n",
              "        0.05097735]),\n",
              " array([0.71124105, 0.7118183 , 0.71211411, ..., 0.08953481, 0.08260446,\n",
              "        0.0985598 ]),\n",
              " array([0.70970316, 0.71068359, 0.71115849, ..., 0.06795277, 0.07538649,\n",
              "        0.07266777]),\n",
              " array([0.71345259, 0.71330242, 0.71340203, ..., 0.04057833, 0.03248315,\n",
              "        0.03167801]),\n",
              " array([0.70485238, 0.70670375, 0.70812752, ..., 0.05291352, 0.05509012,\n",
              "        0.05860757]),\n",
              " array([0.70787248, 0.7092343 , 0.71000222, ..., 0.07383685, 0.08278274,\n",
              "        0.06990032]),\n",
              " array([0.70950713, 0.71034156, 0.71101406, ..., 0.06053012, 0.05294227,\n",
              "        0.05240357]),\n",
              " array([0.70176472, 0.70476168, 0.70651777, ..., 0.02745563, 0.02586568,\n",
              "        0.02749761]),\n",
              " array([0.71132573, 0.71187739, 0.71195519, ..., 0.0312568 , 0.02864287,\n",
              "        0.02197479]),\n",
              " array([0.71190636, 0.71216438, 0.7123698 , ..., 0.03126151, 0.02979288,\n",
              "        0.0252342 ]),\n",
              " array([0.70990654, 0.7108131 , 0.71115397, ..., 0.02614102, 0.02411822,\n",
              "        0.02510769]),\n",
              " array([0.70873079, 0.7099526 , 0.71066724, ..., 0.0227238 , 0.02101812,\n",
              "        0.02003023]),\n",
              " array([0.70885156, 0.71006628, 0.7103273 , ..., 0.0350377 , 0.03070721,\n",
              "        0.03502672]),\n",
              " array([0.71263248, 0.71279095, 0.7129833 , ..., 0.02635735, 0.02506016,\n",
              "        0.02127964]),\n",
              " array([0.71252418, 0.71202344, 0.71235931, ..., 0.04117402, 0.04154841,\n",
              "        0.0430826 ]),\n",
              " array([0.70578189, 0.70761838, 0.7088386 , ..., 0.03437371, 0.03511803,\n",
              "        0.03562295]),\n",
              " array([0.7087461 , 0.70984809, 0.71021047, ..., 0.03480814, 0.03708948,\n",
              "        0.04103026]),\n",
              " array([0.70631494, 0.70818448, 0.70928764, ..., 0.0383337 , 0.03953795,\n",
              "        0.04274297]),\n",
              " array([0.69572857, 0.70017141, 0.70271248, ..., 0.03300055, 0.03548371,\n",
              "        0.04007574])]"
            ]
          },
          "metadata": {},
          "execution_count": 302
        }
      ]
    },
    {
      "cell_type": "code",
      "source": [
        "el1 = [item[0] for item in wake]\n",
        "el1\n",
        "\n",
        "# el2=[item[15] for item in unconscious]\n",
        "# el2\n",
        "\n",
        "# variance(el2)/variance(el1)"
      ],
      "metadata": {
        "colab": {
          "base_uri": "https://localhost:8080/"
        },
        "id": "ru5uuCFaqHMz",
        "outputId": "53fc422c-8406-4c11-b1bd-f9c45200867c"
      },
      "id": "ru5uuCFaqHMz",
      "execution_count": null,
      "outputs": [
        {
          "output_type": "execute_result",
          "data": {
            "text/plain": [
              "[0.6063962958803446,\n",
              " 0.6384945108633464,\n",
              " 0.6786613157831736,\n",
              " 0.6187490722784957,\n",
              " 0.5996068503691059,\n",
              " 0.6263748281838559,\n",
              " 0.605419027873371,\n",
              " 0.6186040564376925,\n",
              " 0.6197625277520201,\n",
              " 0.6230370049131748,\n",
              " 0.7120630717648851,\n",
              " 0.7109249008008323,\n",
              " 0.6857139673717934,\n",
              " 0.708965355959442,\n",
              " 0.7129945926952588,\n",
              " 0.7129288431142886,\n",
              " 0.7121991809392896,\n",
              " 0.7128166275495377,\n",
              " 0.7125523552459755,\n",
              " 0.7132734041229161,\n",
              " 0.7132265293990685,\n",
              " 0.707331251972337,\n",
              " 0.7071799008009276,\n",
              " 0.7112410451785313,\n",
              " 0.7097031635566856,\n",
              " 0.7134525943539861,\n",
              " 0.7048523795788983,\n",
              " 0.7078724787208088,\n",
              " 0.70950712879664,\n",
              " 0.7017647165188372,\n",
              " 0.7113257307123056,\n",
              " 0.711906361515056,\n",
              " 0.7099065381121811,\n",
              " 0.7087307876431866,\n",
              " 0.7088515610694698,\n",
              " 0.7126324822308264,\n",
              " 0.712524177811823,\n",
              " 0.7057818920628053,\n",
              " 0.7087461028943668,\n",
              " 0.7063149402322093,\n",
              " 0.6957285703805625]"
            ]
          },
          "metadata": {},
          "execution_count": 303
        }
      ]
    },
    {
      "cell_type": "code",
      "source": [
        "stats.ttest_ind(el1,el2)"
      ],
      "metadata": {
        "colab": {
          "base_uri": "https://localhost:8080/",
          "height": 170
        },
        "id": "DvcEb7v63qXB",
        "outputId": "e01c4224-2cae-4dbc-acb6-18be64b255f9"
      },
      "id": "DvcEb7v63qXB",
      "execution_count": null,
      "outputs": [
        {
          "output_type": "error",
          "ename": "NameError",
          "evalue": "ignored",
          "traceback": [
            "\u001b[0;31m---------------------------------------------------------------------------\u001b[0m",
            "\u001b[0;31mNameError\u001b[0m                                 Traceback (most recent call last)",
            "\u001b[0;32m<ipython-input-304-d5474d734127>\u001b[0m in \u001b[0;36m<cell line: 1>\u001b[0;34m()\u001b[0m\n\u001b[0;32m----> 1\u001b[0;31m \u001b[0mstats\u001b[0m\u001b[0;34m.\u001b[0m\u001b[0mttest_ind\u001b[0m\u001b[0;34m(\u001b[0m\u001b[0mel1\u001b[0m\u001b[0;34m,\u001b[0m\u001b[0mel2\u001b[0m\u001b[0;34m)\u001b[0m\u001b[0;34m\u001b[0m\u001b[0;34m\u001b[0m\u001b[0m\n\u001b[0m",
            "\u001b[0;31mNameError\u001b[0m: name 'el2' is not defined"
          ]
        }
      ]
    },
    {
      "cell_type": "code",
      "source": [
        "ttest_ind_results = []\n",
        "\n",
        "for i in (range(len(all_data[0]))):\n",
        "  wake_i = [item[i] for item in wake]\n",
        "  unconscious_i = [item[i] for item in unconscious]\n",
        "\n",
        "  #T TEST ASSUMPTIONS: independent samples, random sampling, normal distribution -> mann whitney u test? \n",
        "  #independent or dependent?\n",
        "  #t.test - welsh's or pooled (check variance of wake/unconscious), paired or no, FDR correction\n",
        "  #equal var True (Student's), independent?, FDR correction\n",
        "  #ASSESS SIGNIFICANCE - compare t tests? across all 1500 cols? (check robyn paper, IEEE paper) -> return sig cols? \n",
        "  #(is there a diff between cols)\n",
        "\n",
        "  ttest_ind_results.append(stats.ttest_ind(wake_i,unconscious_i))\n",
        "\n",
        "#print(sig_cols)\n"
      ],
      "metadata": {
        "id": "b8-cIX73sOHe"
      },
      "id": "b8-cIX73sOHe",
      "execution_count": null,
      "outputs": []
    },
    {
      "cell_type": "code",
      "source": [
        "pvals=[]\n",
        "\n",
        "for result in ttest_ind_results:\n",
        "  pvals.append(result[1])"
      ],
      "metadata": {
        "id": "otQVKcTc48_7"
      },
      "id": "otQVKcTc48_7",
      "execution_count": null,
      "outputs": []
    },
    {
      "cell_type": "code",
      "source": [
        "pvals"
      ],
      "metadata": {
        "id": "p3kqDnBr7WiI"
      },
      "id": "p3kqDnBr7WiI",
      "execution_count": null,
      "outputs": []
    },
    {
      "cell_type": "code",
      "source": [
        "from statsmodels.stats.multitest import fdrcorrection\n",
        "adjustedps = fdrcorrection(pvals,alpha=0.1)"
      ],
      "metadata": {
        "id": "Z-EZdGQN53JW"
      },
      "id": "Z-EZdGQN53JW",
      "execution_count": null,
      "outputs": []
    },
    {
      "cell_type": "code",
      "source": [
        "adjustedps"
      ],
      "metadata": {
        "colab": {
          "base_uri": "https://localhost:8080/"
        },
        "id": "iydp-OHrA0-T",
        "outputId": "3b3f61db-2f10-4831-8d30-02385d80eff4"
      },
      "id": "iydp-OHrA0-T",
      "execution_count": null,
      "outputs": [
        {
          "output_type": "execute_result",
          "data": {
            "text/plain": [
              "(array([False, False, False, ..., False, False, False]),\n",
              " array([0.99992694, 0.99992694, 0.99992694, ..., 0.99992694, 0.99992694,\n",
              "        0.99992694]))"
            ]
          },
          "metadata": {},
          "execution_count": 75
        }
      ]
    },
    {
      "cell_type": "code",
      "source": [
        "for i,val in enumerate(adjustedps[0]):\n",
        "  if val==True:\n",
        "    print(i)"
      ],
      "metadata": {
        "colab": {
          "base_uri": "https://localhost:8080/"
        },
        "id": "OzCXR0Xx6rBy",
        "outputId": "a9f18c41-f378-4be4-ae3c-b4d173cbfade"
      },
      "id": "OzCXR0Xx6rBy",
      "execution_count": null,
      "outputs": [
        {
          "output_type": "stream",
          "name": "stdout",
          "text": [
            "205\n",
            "206\n",
            "304\n",
            "305\n",
            "306\n",
            "307\n",
            "404\n",
            "405\n",
            "406\n",
            "407\n",
            "504\n",
            "505\n",
            "506\n",
            "507\n",
            "604\n",
            "605\n",
            "606\n",
            "706\n"
          ]
        }
      ]
    },
    {
      "cell_type": "code",
      "source": [
        "#visualize group mean STSPs\n",
        "\n",
        "plt.figure(figsize=(10,4))\n",
        "\n",
        "plt.subplot(1,2,1)\n",
        "plt.xticks([])\n",
        "plt.yticks([])\n",
        "plt.grid(False)\n",
        "plt.imshow(np.reshape(wake_mean,(55,100)))\n",
        "plt.xlabel(\"wake\")\n",
        "\n",
        "plt.subplot(1,2,2)\n",
        "plt.xticks([])\n",
        "plt.yticks([])\n",
        "plt.grid(False)\n",
        "plt.imshow(np.reshape(unconscious_mean,(55,100)))\n",
        "plt.xlabel(\"unconscious\")\n",
        "\n",
        "plt.tight_layout()\n",
        "plt.show()"
      ],
      "metadata": {
        "colab": {
          "base_uri": "https://localhost:8080/",
          "height": 319
        },
        "id": "rmSgcxZ3k_30",
        "outputId": "0b56796d-f37f-452d-dbfb-7b71f62adecb"
      },
      "id": "rmSgcxZ3k_30",
      "execution_count": null,
      "outputs": [
        {
          "output_type": "display_data",
          "data": {
            "text/plain": [
              "<Figure size 1000x400 with 2 Axes>"
            ],
            "image/png": "[encoded data removed]"
          },
          "metadata": {}
        }
      ]
    },
    {
      "cell_type": "markdown",
      "id": "norman-concentration",
      "metadata": {
        "id": "norman-concentration"
      },
      "source": [
        "# Visualizing Learned Features \n",
        "\n",
        "It's possible to define a separate model that allows us to study the features learned by the model. These are often called *activations*. We create this model by simply asserting that the model outputs are equal to the outputs of the first convolutional layer. For this we use the `models.Model` class rather than the `models.Sequential` class, which is more convenient but less flexible. \n",
        "\n",
        "It's possible to look at the activations at different levels of the model. Generally speaking, it is expected that the activations become more abstract as one goes higher up the model structure. "
      ]
    },
    {
      "cell_type": "code",
      "execution_count": null,
      "id": "dominant-lover",
      "metadata": {
        "id": "dominant-lover",
        "colab": {
          "base_uri": "https://localhost:8080/",
          "height": 204
        },
        "outputId": "a1ccc4e7-76a6-4948-8ec1-2ca4c1eca2bb"
      },
      "outputs": [
        {
          "output_type": "error",
          "ename": "AttributeError",
          "evalue": "ignored",
          "traceback": [
            "\u001b[0;31m---------------------------------------------------------------------------\u001b[0m",
            "\u001b[0;31mAttributeError\u001b[0m                            Traceback (most recent call last)",
            "\u001b[0;32m<ipython-input-9-dd868960457e>\u001b[0m in \u001b[0;36m<cell line: 3>\u001b[0;34m()\u001b[0m\n\u001b[1;32m      1\u001b[0m \u001b[0;31m#only looking at outputs of first layer\u001b[0m\u001b[0;34m\u001b[0m\u001b[0;34m\u001b[0m\u001b[0m\n\u001b[1;32m      2\u001b[0m \u001b[0;34m\u001b[0m\u001b[0m\n\u001b[0;32m----> 3\u001b[0;31m \u001b[0mactivation_model\u001b[0m\u001b[0;34m=\u001b[0m\u001b[0mmodels\u001b[0m\u001b[0;34m.\u001b[0m\u001b[0mModel\u001b[0m\u001b[0;34m(\u001b[0m\u001b[0minputs\u001b[0m\u001b[0;34m=\u001b[0m\u001b[0mSVC\u001b[0m\u001b[0;34m.\u001b[0m\u001b[0minput\u001b[0m\u001b[0;34m,\u001b[0m\u001b[0moutputs\u001b[0m\u001b[0;34m=\u001b[0m\u001b[0mSVC\u001b[0m\u001b[0;34m.\u001b[0m\u001b[0mlayers\u001b[0m\u001b[0;34m[\u001b[0m\u001b[0;36m0\u001b[0m\u001b[0;34m]\u001b[0m\u001b[0;34m.\u001b[0m\u001b[0moutput\u001b[0m\u001b[0;34m)\u001b[0m\u001b[0;34m\u001b[0m\u001b[0;34m\u001b[0m\u001b[0m\n\u001b[0m",
            "\u001b[0;31mAttributeError\u001b[0m: 'SVC' object has no attribute 'input'"
          ]
        }
      ],
      "source": [
        "#only looking at outputs of first layer\n",
        "\n",
        "activation_model=models.Model(inputs=SVC.input,outputs=SVC.layers[0].output)"
      ]
    },
    {
      "cell_type": "markdown",
      "id": "static-jacket",
      "metadata": {
        "id": "static-jacket"
      },
      "source": [
        "Now we can compute the activations"
      ]
    },
    {
      "cell_type": "code",
      "execution_count": null,
      "id": "organized-nudist",
      "metadata": {
        "id": "organized-nudist"
      },
      "outputs": [],
      "source": [
        "activations=activation_model.predict(train_images[0:10])"
      ]
    },
    {
      "cell_type": "markdown",
      "id": "restricted-mortality",
      "metadata": {
        "id": "restricted-mortality"
      },
      "source": [
        "And visualize them! "
      ]
    },
    {
      "cell_type": "code",
      "execution_count": null,
      "id": "laughing-advancement",
      "metadata": {
        "id": "laughing-advancement"
      },
      "outputs": [],
      "source": [
        "k = 7\n",
        "\n",
        "color_im = x_train[k:(k+1)]\n",
        "convd = conv(color_im).numpy()\n",
        "\n",
        "fig, axarr = plt.subplots(3, 3, figsize = (8, 6))\n",
        "\n",
        "axarr[0, 0].imshow(color_im[0])\n",
        "axarr[0,0].axis(\"off\")\n",
        "axarr[0,0].set(title = \"Original\")\n",
        "\n",
        "i = 0\n",
        "for ax in axarr.flatten()[1:]:\n",
        "    ax.imshow(activations[k,:,:,i], cmap = \"gray\")\n",
        "    i += 1\n",
        "    ax.axis(\"off\")\n",
        "    ax.set(title = \"Feature \" + str(i))\n",
        "    \n",
        "plt.tight_layout()"
      ]
    },
    {
      "cell_type": "markdown",
      "id": "oriented-advocacy",
      "metadata": {
        "id": "oriented-advocacy"
      },
      "source": [
        "Somewhat romantically, these activations might be interpreted as \"how the algorithm looks at\" the resulting image. That said, one must be careful of over-interpretation. Still, it looks like some of the features correspond to edge detection (like we saw above), while others correspond to highlighting different patches of colors, enabling, for example, separation of the foreground object from the background. "
      ]
    }
  ],
  "metadata": {
    "colab": {
      "provenance": [],
      "include_colab_link": true
    },
    "gpuClass": "standard",
    "kernelspec": {
      "display_name": "Python 3 (ipykernel)",
      "language": "python",
      "name": "python3"
    },
    "language_info": {
      "codemirror_mode": {
        "name": "ipython",
        "version": 3
      },
      "file_extension": ".py",
      "mimetype": "text/x-python",
      "name": "python",
      "nbconvert_exporter": "python",
      "pygments_lexer": "ipython3",
      "version": "3.9.13"
    }
  },
  "nbformat": 4,
  "nbformat_minor": 5
}